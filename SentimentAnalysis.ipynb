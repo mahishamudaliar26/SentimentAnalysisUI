{
 "cells": [
  {
   "cell_type": "markdown",
   "metadata": {},
   "source": [
    "# **Import libraries**\n"
   ]
  },
  {
   "cell_type": "code",
   "execution_count": 1,
   "metadata": {},
   "outputs": [
    {
     "name": "stdout",
     "output_type": "stream",
     "text": [
      "WARNING:tensorflow:From c:\\Users\\MahishaMudaliar\\anaconda3\\envs\\SentimentAnalysis\\Lib\\site-packages\\keras\\src\\losses.py:2976: The name tf.losses.sparse_softmax_cross_entropy is deprecated. Please use tf.compat.v1.losses.sparse_softmax_cross_entropy instead.\n",
      "\n"
     ]
    },
    {
     "name": "stderr",
     "output_type": "stream",
     "text": [
      "c:\\Users\\MahishaMudaliar\\anaconda3\\envs\\SentimentAnalysis\\Lib\\site-packages\\tqdm\\auto.py:21: TqdmWarning: IProgress not found. Please update jupyter and ipywidgets. See https://ipywidgets.readthedocs.io/en/stable/user_install.html\n",
      "  from .autonotebook import tqdm as notebook_tqdm\n",
      "[nltk_data] Downloading package stopwords to\n",
      "[nltk_data]     C:\\Users\\MahishaMudaliar\\AppData\\Roaming\\nltk_data...\n",
      "[nltk_data]   Package stopwords is already up-to-date!\n",
      "[nltk_data] Downloading package wordnet to\n",
      "[nltk_data]     C:\\Users\\MahishaMudaliar\\AppData\\Roaming\\nltk_data...\n",
      "[nltk_data]   Package wordnet is already up-to-date!\n",
      "[nltk_data] Downloading package omw-1.4 to\n",
      "[nltk_data]     C:\\Users\\MahishaMudaliar\\AppData\\Roaming\\nltk_data...\n",
      "[nltk_data]   Package omw-1.4 is already up-to-date!\n",
      "[nltk_data] Downloading package gutenberg to\n",
      "[nltk_data]     C:\\Users\\MahishaMudaliar\\AppData\\Roaming\\nltk_data...\n",
      "[nltk_data]   Package gutenberg is already up-to-date!\n",
      "[nltk_data] Downloading package brown to\n",
      "[nltk_data]     C:\\Users\\MahishaMudaliar\\AppData\\Roaming\\nltk_data...\n",
      "[nltk_data]   Package brown is already up-to-date!\n",
      "[nltk_data] Downloading package reuters to\n",
      "[nltk_data]     C:\\Users\\MahishaMudaliar\\AppData\\Roaming\\nltk_data...\n",
      "[nltk_data]   Package reuters is already up-to-date!\n",
      "[nltk_data] Downloading package words to\n",
      "[nltk_data]     C:\\Users\\MahishaMudaliar\\AppData\\Roaming\\nltk_data...\n",
      "[nltk_data]   Package words is already up-to-date!\n"
     ]
    },
    {
     "data": {
      "text/plain": [
       "True"
      ]
     },
     "execution_count": 1,
     "metadata": {},
     "output_type": "execute_result"
    }
   ],
   "source": [
    "import numpy as np\n",
    "import pandas as pd\n",
    "import nltk\n",
    "import tensorflow as tf\n",
    "from nltk.corpus import stopwords\n",
    "from nltk.corpus import reuters\n",
    "from nltk.corpus import brown\n",
    "from nltk.corpus import gutenberg\n",
    "from nltk.tokenize import RegexpTokenizer\n",
    "from nltk.stem import SnowballStemmer\n",
    "import matplotlib.pyplot as plt\n",
    "import seaborn as sns\n",
    "import plotly.express as px\n",
    "import pickle\n",
    "import joblib\n",
    "from collections import Counter\n",
    "from textblob import Word \n",
    "from wordcloud import WordCloud\n",
    "from sklearn.model_selection import train_test_split\n",
    "from sklearn.naive_bayes import MultinomialNB\n",
    "from sklearn.svm import LinearSVC, SVC\n",
    "from sklearn.linear_model import LogisticRegression\n",
    "from sklearn.tree import DecisionTreeClassifier\n",
    "from sklearn.ensemble import GradientBoostingClassifier, RandomForestClassifier, AdaBoostClassifier, VotingClassifier\n",
    "from sklearn.model_selection import KFold \n",
    "from sklearn.metrics import accuracy_score, classification_report, confusion_matrix, precision_score, f1_score, recall_score\n",
    "from sklearn.model_selection import cross_val_score, cross_val_predict\n",
    "from sklearn.feature_extraction.text import CountVectorizer, TfidfTransformer\n",
    "from keras.preprocessing.text import Tokenizer\n",
    "from keras.models import Sequential, load_model\n",
    "from keras.callbacks import ModelCheckpoint, EarlyStopping, ReduceLROnPlateau\n",
    "from keras_preprocessing.sequence import pad_sequences\n",
    "from keras.utils import to_categorical\n",
    "from keras.layers import Activation, Dense, Embedding, LSTM, SpatialDropout1D, Dropout, Flatten, GRU, Conv1D, MaxPooling1D, Bidirectional\n",
    "from wordcloud import WordCloud,ImageColorGenerator\n",
    "from PIL import Image\n",
    "import urllib\n",
    "import requests\n",
    "import re\n",
    "import ktrain\n",
    "from ktrain import text\n",
    "sns.set()\n",
    "%matplotlib inline\n",
    "nltk.download('stopwords')\n",
    "nltk.download('wordnet')\n",
    "nltk.download('omw-1.4')\n",
    "nltk.download('gutenberg')\n",
    "nltk.download('brown')\n",
    "nltk.download(\"reuters\")\n",
    "nltk.download('words')"
   ]
  },
  {
   "cell_type": "code",
   "execution_count": null,
   "metadata": {},
   "outputs": [],
   "source": [
    "! pip install keras_preprocessing\n"
   ]
  },
  {
   "cell_type": "markdown",
   "metadata": {},
   "source": [
    "### **Load Dataset**\n"
   ]
  },
  {
   "cell_type": "code",
   "execution_count": 2,
   "metadata": {},
   "outputs": [
    {
     "data": {
      "text/plain": [
       "category\n",
       "Employee Health, Safety & Wellness                 12\n",
       "Training & Development                             11\n",
       "Water Use & Management                             11\n",
       "Energy Management                                   8\n",
       "Waste Management & Effluents                        7\n",
       "Environmental Impact of Cotton and Other Fibres     6\n",
       "Policies, Standards, Code of Conduct                5\n",
       "Long term Viability of Core Business                5\n",
       "Community Development                               5\n",
       "Chemical Risks and Management                       4\n",
       "Communication & Engagement                          4\n",
       "Research, Development & Innovation                  4\n",
       "Access to Services                                  2\n",
       "Labour Relations & Union Practices                  2\n",
       "Board Structure & Independence                      2\n",
       "Education                                           1\n",
       "Developing Vocational Skills                        1\n",
       "Supply Chain Standards & Selection                  1\n",
       "Customer Satisfaction                               1\n",
       "Regulatory & Legal Challenges                       1\n",
       "Environmental Accidents & Remediation               1\n",
       "GHG Emissions & Air Pollution                       1\n",
       "Product Environmental Footprint                     1\n",
       "Product Quality & Safety                            1\n",
       "Product Societal Value                              1\n",
       "Supply Chain Engagement and Transparency            1\n",
       "Name: count, dtype: int64"
      ]
     },
     "execution_count": 2,
     "metadata": {},
     "output_type": "execute_result"
    }
   ],
   "source": [
    "import pandas as pd\n",
    "import chardet\n",
    "\n",
    "with open(\"Stakeholders Dataset\\Stakeholders Dataset.csv\", 'rb') as f:\n",
    "    result = chardet.detect(f.read())  # detects encodings like UTF-8, ASCII, ISO-8859-1\n",
    "\n",
    "df = pd.read_csv(\"Stakeholders Dataset\\Stakeholders Dataset.csv\", engine='python', encoding=result['encoding'])\n",
    "df['category'].value_counts()"
   ]
  },
  {
   "cell_type": "code",
   "execution_count": 3,
   "metadata": {},
   "outputs": [
    {
     "name": "stdout",
     "output_type": "stream",
     "text": [
      "Category counts saved to 'business_category_counts.csv'\n"
     ]
    }
   ],
   "source": [
    "import pandas as pd\n",
    "\n",
    "# Attempt to read the CSV file, trying common encodings\n",
    "try:\n",
    "    df = pd.read_csv(\"Business Dataset\\Dataset.csv\")\n",
    "except UnicodeDecodeError:\n",
    "    try:\n",
    "        df = pd.read_csv(\"Business Dataset\\Dataset.csv\", encoding='ISO-8859-1')\n",
    "    except UnicodeDecodeError:\n",
    "        df = pd.read_csv(\"Business Dataset\\Dataset.csv\", encoding='utf-8')\n",
    "\n",
    "# Check if the 'category' column exists in the DataFrame\n",
    "if 'category' in df.columns:\n",
    "    category_counts = df['category'].value_counts()\n",
    "\n",
    "    # Create a new DataFrame from the counts\n",
    "    result_df = pd.DataFrame({'Category': category_counts.index, 'Count': category_counts.values})\n",
    "\n",
    "    # Save to CSV\n",
    "    result_df.to_csv('business_category_counts.csv', index=False)  # index=False to avoid row numbers\n",
    "    print(\"Category counts saved to 'business_category_counts.csv'\")\n",
    "else:\n",
    "    print(\"The 'category' column does not exist in the dataset.\")\n"
   ]
  },
  {
   "cell_type": "code",
   "execution_count": 4,
   "metadata": {},
   "outputs": [
    {
     "name": "stdout",
     "output_type": "stream",
     "text": [
      "                                category  \\\n",
      "0   Policies, Standards, Code of Conduct   \n",
      "1     Employee Health, Safety & Wellness   \n",
      "2   Long term Viability of Core Business   \n",
      "3                 Product Societal Value   \n",
      "4   Policies, Standards, Code of Conduct   \n",
      "..                                   ...   \n",
      "94    Employee Health, Safety & Wellness   \n",
      "95    Labour Relations & Union Practices   \n",
      "96                Training & Development   \n",
      "97                Training & Development   \n",
      "98                Training & Development   \n",
      "\n",
      "                                                 text  \n",
      "0   HILE ACTIONS ALWAYS SPEAK LOUDER THAN WORDS, W...  \n",
      "1   NURTURE TALENT ......... DO GOOD BUILD LEADERS...  \n",
      "2   COMPANY PROFILE With a market cap of USD 1.3 b...  \n",
      "3   Vision WE WILL ENABLE PEOPLE TO EXPERIENCE A B...  \n",
      "4   CHARTERS, PRINCIPLES AND COALITIONS Our long-s...  \n",
      "..                                                ...  \n",
      "94  CASE STUDY COMBATING FIRE INCIDENTS SANTEJ Cha...  \n",
      "95  We have structured policies and processes unde...  \n",
      "96  LAYING A STRONG FOUNDATION FOR PRODUCTIVITY In...  \n",
      "97  DEVELOPMENT PROGRAMMES When we develop potenti...  \n",
      "98  TRAINING & DEVELOPMENT We are committed to the...  \n",
      "\n",
      "[99 rows x 2 columns]\n"
     ]
    }
   ],
   "source": [
    "df.to_csv(\"Stakeholders Dataset\\Stakeholders Dataset.csv\", index=False)  # converts dataframe to CSV\n",
    "print(df)"
   ]
  },
  {
   "cell_type": "markdown",
   "metadata": {},
   "source": [
    "# **Data Cleaning**\n"
   ]
  },
  {
   "cell_type": "code",
   "execution_count": 5,
   "metadata": {},
   "outputs": [
    {
     "data": {
      "text/plain": [
       "category    0\n",
       "text        0\n",
       "dtype: int64"
      ]
     },
     "execution_count": 5,
     "metadata": {},
     "output_type": "execute_result"
    }
   ],
   "source": [
    "df['text']=df['text'].fillna(\"\")  # replaces all NaN with empty string\n",
    "df.isna().sum() "
   ]
  },
  {
   "cell_type": "markdown",
   "metadata": {},
   "source": [
    "# **Preprocessing**\n"
   ]
  },
  {
   "cell_type": "code",
   "execution_count": 6,
   "metadata": {},
   "outputs": [
    {
     "name": "stdout",
     "output_type": "stream",
     "text": [
      "0     hile action speak louder word articulated word...\n",
      "1     nurture talent build leader empower people pow...\n",
      "2     company profile market cap usd billion 85 rich...\n",
      "3     vision enable people experience quality life p...\n",
      "4     charter principle coalition standing commitmen...\n",
      "                            ...                        \n",
      "94    study combating fire incident santej challenge...\n",
      "95    structured policy process various management s...\n",
      "96    laying strong foundation productivity reportin...\n",
      "97    development programme develop potential tapped...\n",
      "98    training development committed growth developm...\n",
      "Name: Text, Length: 99, dtype: object\n"
     ]
    }
   ],
   "source": [
    "# Detect encoding and load CSV file\n",
    "with open(\"Stakeholders Dataset\\Stakeholders Dataset.csv\", 'rb') as f:\n",
    "    result = chardet.detect(f.read())\n",
    "\n",
    "df = pd.read_csv(\"Stakeholders Dataset\\Stakeholders Dataset.csv\", engine='python', encoding=result['encoding'])\n",
    "\n",
    "# Display the category value counts\n",
    "# print(df['category'].value_counts())\n",
    "\n",
    "# Convert to lower case, strip whitespace, and remove newline characters\n",
    "df['lower_case'] = df['text'].apply(lambda x: x.lower().strip().replace('\\n', ' ').replace('\\r', ' '))\n",
    "\n",
    "# Remove non-alphabetic characters and non-ASCII characters\n",
    "df['alphabatic'] = df['lower_case'].apply(lambda x: re.sub(r'[^a-zA-Z\\']', ' ', x)).apply(lambda x: re.sub(r'[^\\x00-\\x7F]+', '', x))\n",
    "\n",
    "# Remove URLs\n",
    "df['without-link'] = df['alphabatic'].apply(lambda x: re.sub(r'http\\S+', '', x))\n",
    "\n",
    "# Tokenize text\n",
    "tokenizer = RegexpTokenizer(r'\\w+')\n",
    "df['Special_word'] = df.apply(lambda row: tokenizer.tokenize(row['lower_case']), axis=1)\n",
    "\n",
    "# Define stopwords list\n",
    "with open(\"stopwords.txt\", 'r') as file:\n",
    "    stop = [line.strip() for line in file.readlines()]\n",
    "\n",
    "# Remove stopwords\n",
    "df['stop_words'] = df['Special_word'].apply(lambda x: [item for item in x if item not in stop])\n",
    "df['stop_words'] = df['stop_words'].astype('str')\n",
    "\n",
    "# Filter out short words\n",
    "df['short_word'] = df['stop_words'].str.findall('\\w{2,}')  # Finding out words with length of 2 words by applying regex\n",
    "df['string'] = df['short_word'].str.join(' ')   \n",
    "\n",
    "# Lemmatize text (text normalization in NLP) (returns base form of words)\n",
    "df['Text'] = df['string'].apply(lambda x: \" \".join([Word(word).lemmatize() for word in x.split()]))\n",
    "print(df['Text'])\n"
   ]
  },
  {
   "cell_type": "code",
   "execution_count": 7,
   "metadata": {},
   "outputs": [
    {
     "data": {
      "text/html": [
       "<div>\n",
       "<style scoped>\n",
       "    .dataframe tbody tr th:only-of-type {\n",
       "        vertical-align: middle;\n",
       "    }\n",
       "\n",
       "    .dataframe tbody tr th {\n",
       "        vertical-align: top;\n",
       "    }\n",
       "\n",
       "    .dataframe thead th {\n",
       "        text-align: right;\n",
       "    }\n",
       "</style>\n",
       "<table border=\"1\" class=\"dataframe\">\n",
       "  <thead>\n",
       "    <tr style=\"text-align: right;\">\n",
       "      <th></th>\n",
       "      <th>category</th>\n",
       "      <th>text</th>\n",
       "      <th>lower_case</th>\n",
       "      <th>alphabatic</th>\n",
       "      <th>without-link</th>\n",
       "      <th>Special_word</th>\n",
       "      <th>stop_words</th>\n",
       "      <th>short_word</th>\n",
       "      <th>string</th>\n",
       "      <th>Text</th>\n",
       "    </tr>\n",
       "  </thead>\n",
       "  <tbody>\n",
       "    <tr>\n",
       "      <th>0</th>\n",
       "      <td>Policies, Standards, Code of Conduct</td>\n",
       "      <td>HILE ACTIONS ALWAYS SPEAK LOUDER THAN WORDS, W...</td>\n",
       "      <td>hile actions always speak louder than words, w...</td>\n",
       "      <td>hile actions always speak louder than words  w...</td>\n",
       "      <td>hile actions always speak louder than words  w...</td>\n",
       "      <td>[hile, actions, always, speak, louder, than, w...</td>\n",
       "      <td>['hile', 'actions', 'speak', 'louder', 'words'...</td>\n",
       "      <td>[hile, actions, speak, louder, words, articula...</td>\n",
       "      <td>hile actions speak louder words articulated wo...</td>\n",
       "      <td>hile action speak louder word articulated word...</td>\n",
       "    </tr>\n",
       "    <tr>\n",
       "      <th>1</th>\n",
       "      <td>Employee Health, Safety &amp; Wellness</td>\n",
       "      <td>NURTURE TALENT ......... DO GOOD BUILD LEADERS...</td>\n",
       "      <td>nurture talent ......... do good build leaders...</td>\n",
       "      <td>nurture talent           do good build leaders...</td>\n",
       "      <td>nurture talent           do good build leaders...</td>\n",
       "      <td>[nurture, talent, do, good, build, leaders, do...</td>\n",
       "      <td>['nurture', 'talent', 'build', 'leaders', 'emp...</td>\n",
       "      <td>[nurture, talent, build, leaders, empower, peo...</td>\n",
       "      <td>nurture talent build leaders empower people po...</td>\n",
       "      <td>nurture talent build leader empower people pow...</td>\n",
       "    </tr>\n",
       "    <tr>\n",
       "      <th>2</th>\n",
       "      <td>Long term Viability of Core Business</td>\n",
       "      <td>COMPANY PROFILE With a market cap of USD 1.3 b...</td>\n",
       "      <td>company profile with a market cap of usd 1.3 b...</td>\n",
       "      <td>company profile with a market cap of usd     b...</td>\n",
       "      <td>company profile with a market cap of usd     b...</td>\n",
       "      <td>[company, profile, with, a, market, cap, of, u...</td>\n",
       "      <td>['company', 'profile', 'market', 'cap', 'usd',...</td>\n",
       "      <td>[company, profile, market, cap, usd, billion, ...</td>\n",
       "      <td>company profile market cap usd billion 85 rich...</td>\n",
       "      <td>company profile market cap usd billion 85 rich...</td>\n",
       "    </tr>\n",
       "    <tr>\n",
       "      <th>3</th>\n",
       "      <td>Product Societal Value</td>\n",
       "      <td>Vision WE WILL ENABLE PEOPLE TO EXPERIENCE A B...</td>\n",
       "      <td>vision we will enable people to experience a b...</td>\n",
       "      <td>vision we will enable people to experience a b...</td>\n",
       "      <td>vision we will enable people to experience a b...</td>\n",
       "      <td>[vision, we, will, enable, people, to, experie...</td>\n",
       "      <td>['vision', 'enable', 'people', 'experience', '...</td>\n",
       "      <td>[vision, enable, people, experience, quality, ...</td>\n",
       "      <td>vision enable people experience quality life p...</td>\n",
       "      <td>vision enable people experience quality life p...</td>\n",
       "    </tr>\n",
       "    <tr>\n",
       "      <th>4</th>\n",
       "      <td>Policies, Standards, Code of Conduct</td>\n",
       "      <td>CHARTERS, PRINCIPLES AND COALITIONS Our long-s...</td>\n",
       "      <td>charters, principles and coalitions our long-s...</td>\n",
       "      <td>charters  principles and coalitions our long s...</td>\n",
       "      <td>charters  principles and coalitions our long s...</td>\n",
       "      <td>[charters, principles, and, coalitions, our, l...</td>\n",
       "      <td>['charters', 'principles', 'coalitions', 'stan...</td>\n",
       "      <td>[charters, principles, coalitions, standing, c...</td>\n",
       "      <td>charters principles coalitions standing commit...</td>\n",
       "      <td>charter principle coalition standing commitmen...</td>\n",
       "    </tr>\n",
       "    <tr>\n",
       "      <th>...</th>\n",
       "      <td>...</td>\n",
       "      <td>...</td>\n",
       "      <td>...</td>\n",
       "      <td>...</td>\n",
       "      <td>...</td>\n",
       "      <td>...</td>\n",
       "      <td>...</td>\n",
       "      <td>...</td>\n",
       "      <td>...</td>\n",
       "      <td>...</td>\n",
       "    </tr>\n",
       "    <tr>\n",
       "      <th>94</th>\n",
       "      <td>Employee Health, Safety &amp; Wellness</td>\n",
       "      <td>CASE STUDY COMBATING FIRE INCIDENTS SANTEJ Cha...</td>\n",
       "      <td>case study combating fire incidents santej cha...</td>\n",
       "      <td>case study combating fire incidents santej cha...</td>\n",
       "      <td>case study combating fire incidents santej cha...</td>\n",
       "      <td>[case, study, combating, fire, incidents, sant...</td>\n",
       "      <td>['study', 'combating', 'fire', 'incidents', 's...</td>\n",
       "      <td>[study, combating, fire, incidents, santej, ch...</td>\n",
       "      <td>study combating fire incidents santej challeng...</td>\n",
       "      <td>study combating fire incident santej challenge...</td>\n",
       "    </tr>\n",
       "    <tr>\n",
       "      <th>95</th>\n",
       "      <td>Labour Relations &amp; Union Practices</td>\n",
       "      <td>We have structured policies and processes unde...</td>\n",
       "      <td>we have structured policies and processes unde...</td>\n",
       "      <td>we have structured policies and processes unde...</td>\n",
       "      <td>we have structured policies and processes unde...</td>\n",
       "      <td>[we, have, structured, policies, and, processe...</td>\n",
       "      <td>['structured', 'policies', 'processes', 'vario...</td>\n",
       "      <td>[structured, policies, processes, various, man...</td>\n",
       "      <td>structured policies processes various manageme...</td>\n",
       "      <td>structured policy process various management s...</td>\n",
       "    </tr>\n",
       "    <tr>\n",
       "      <th>96</th>\n",
       "      <td>Training &amp; Development</td>\n",
       "      <td>LAYING A STRONG FOUNDATION FOR PRODUCTIVITY In...</td>\n",
       "      <td>laying a strong foundation for productivity in...</td>\n",
       "      <td>laying a strong foundation for productivity in...</td>\n",
       "      <td>laying a strong foundation for productivity in...</td>\n",
       "      <td>[laying, a, strong, foundation, for, productiv...</td>\n",
       "      <td>['laying', 'strong', 'foundation', 'productivi...</td>\n",
       "      <td>[laying, strong, foundation, productivity, rep...</td>\n",
       "      <td>laying strong foundation productivity reportin...</td>\n",
       "      <td>laying strong foundation productivity reportin...</td>\n",
       "    </tr>\n",
       "    <tr>\n",
       "      <th>97</th>\n",
       "      <td>Training &amp; Development</td>\n",
       "      <td>DEVELOPMENT PROGRAMMES When we develop potenti...</td>\n",
       "      <td>development programmes when we develop potenti...</td>\n",
       "      <td>development programmes when we develop potenti...</td>\n",
       "      <td>development programmes when we develop potenti...</td>\n",
       "      <td>[development, programmes, when, we, develop, p...</td>\n",
       "      <td>['development', 'programmes', 'develop', 'pote...</td>\n",
       "      <td>[development, programmes, develop, potentials,...</td>\n",
       "      <td>development programmes develop potentials tapp...</td>\n",
       "      <td>development programme develop potential tapped...</td>\n",
       "    </tr>\n",
       "    <tr>\n",
       "      <th>98</th>\n",
       "      <td>Training &amp; Development</td>\n",
       "      <td>TRAINING &amp; DEVELOPMENT We are committed to the...</td>\n",
       "      <td>training &amp; development we are committed to the...</td>\n",
       "      <td>training   development we are committed to the...</td>\n",
       "      <td>training   development we are committed to the...</td>\n",
       "      <td>[training, development, we, are, committed, to...</td>\n",
       "      <td>['training', 'development', 'committed', 'grow...</td>\n",
       "      <td>[training, development, committed, growth, dev...</td>\n",
       "      <td>training development committed growth developm...</td>\n",
       "      <td>training development committed growth developm...</td>\n",
       "    </tr>\n",
       "  </tbody>\n",
       "</table>\n",
       "<p>99 rows × 10 columns</p>\n",
       "</div>"
      ],
      "text/plain": [
       "                                category  \\\n",
       "0   Policies, Standards, Code of Conduct   \n",
       "1     Employee Health, Safety & Wellness   \n",
       "2   Long term Viability of Core Business   \n",
       "3                 Product Societal Value   \n",
       "4   Policies, Standards, Code of Conduct   \n",
       "..                                   ...   \n",
       "94    Employee Health, Safety & Wellness   \n",
       "95    Labour Relations & Union Practices   \n",
       "96                Training & Development   \n",
       "97                Training & Development   \n",
       "98                Training & Development   \n",
       "\n",
       "                                                 text  \\\n",
       "0   HILE ACTIONS ALWAYS SPEAK LOUDER THAN WORDS, W...   \n",
       "1   NURTURE TALENT ......... DO GOOD BUILD LEADERS...   \n",
       "2   COMPANY PROFILE With a market cap of USD 1.3 b...   \n",
       "3   Vision WE WILL ENABLE PEOPLE TO EXPERIENCE A B...   \n",
       "4   CHARTERS, PRINCIPLES AND COALITIONS Our long-s...   \n",
       "..                                                ...   \n",
       "94  CASE STUDY COMBATING FIRE INCIDENTS SANTEJ Cha...   \n",
       "95  We have structured policies and processes unde...   \n",
       "96  LAYING A STRONG FOUNDATION FOR PRODUCTIVITY In...   \n",
       "97  DEVELOPMENT PROGRAMMES When we develop potenti...   \n",
       "98  TRAINING & DEVELOPMENT We are committed to the...   \n",
       "\n",
       "                                           lower_case  \\\n",
       "0   hile actions always speak louder than words, w...   \n",
       "1   nurture talent ......... do good build leaders...   \n",
       "2   company profile with a market cap of usd 1.3 b...   \n",
       "3   vision we will enable people to experience a b...   \n",
       "4   charters, principles and coalitions our long-s...   \n",
       "..                                                ...   \n",
       "94  case study combating fire incidents santej cha...   \n",
       "95  we have structured policies and processes unde...   \n",
       "96  laying a strong foundation for productivity in...   \n",
       "97  development programmes when we develop potenti...   \n",
       "98  training & development we are committed to the...   \n",
       "\n",
       "                                           alphabatic  \\\n",
       "0   hile actions always speak louder than words  w...   \n",
       "1   nurture talent           do good build leaders...   \n",
       "2   company profile with a market cap of usd     b...   \n",
       "3   vision we will enable people to experience a b...   \n",
       "4   charters  principles and coalitions our long s...   \n",
       "..                                                ...   \n",
       "94  case study combating fire incidents santej cha...   \n",
       "95  we have structured policies and processes unde...   \n",
       "96  laying a strong foundation for productivity in...   \n",
       "97  development programmes when we develop potenti...   \n",
       "98  training   development we are committed to the...   \n",
       "\n",
       "                                         without-link  \\\n",
       "0   hile actions always speak louder than words  w...   \n",
       "1   nurture talent           do good build leaders...   \n",
       "2   company profile with a market cap of usd     b...   \n",
       "3   vision we will enable people to experience a b...   \n",
       "4   charters  principles and coalitions our long s...   \n",
       "..                                                ...   \n",
       "94  case study combating fire incidents santej cha...   \n",
       "95  we have structured policies and processes unde...   \n",
       "96  laying a strong foundation for productivity in...   \n",
       "97  development programmes when we develop potenti...   \n",
       "98  training   development we are committed to the...   \n",
       "\n",
       "                                         Special_word  \\\n",
       "0   [hile, actions, always, speak, louder, than, w...   \n",
       "1   [nurture, talent, do, good, build, leaders, do...   \n",
       "2   [company, profile, with, a, market, cap, of, u...   \n",
       "3   [vision, we, will, enable, people, to, experie...   \n",
       "4   [charters, principles, and, coalitions, our, l...   \n",
       "..                                                ...   \n",
       "94  [case, study, combating, fire, incidents, sant...   \n",
       "95  [we, have, structured, policies, and, processe...   \n",
       "96  [laying, a, strong, foundation, for, productiv...   \n",
       "97  [development, programmes, when, we, develop, p...   \n",
       "98  [training, development, we, are, committed, to...   \n",
       "\n",
       "                                           stop_words  \\\n",
       "0   ['hile', 'actions', 'speak', 'louder', 'words'...   \n",
       "1   ['nurture', 'talent', 'build', 'leaders', 'emp...   \n",
       "2   ['company', 'profile', 'market', 'cap', 'usd',...   \n",
       "3   ['vision', 'enable', 'people', 'experience', '...   \n",
       "4   ['charters', 'principles', 'coalitions', 'stan...   \n",
       "..                                                ...   \n",
       "94  ['study', 'combating', 'fire', 'incidents', 's...   \n",
       "95  ['structured', 'policies', 'processes', 'vario...   \n",
       "96  ['laying', 'strong', 'foundation', 'productivi...   \n",
       "97  ['development', 'programmes', 'develop', 'pote...   \n",
       "98  ['training', 'development', 'committed', 'grow...   \n",
       "\n",
       "                                           short_word  \\\n",
       "0   [hile, actions, speak, louder, words, articula...   \n",
       "1   [nurture, talent, build, leaders, empower, peo...   \n",
       "2   [company, profile, market, cap, usd, billion, ...   \n",
       "3   [vision, enable, people, experience, quality, ...   \n",
       "4   [charters, principles, coalitions, standing, c...   \n",
       "..                                                ...   \n",
       "94  [study, combating, fire, incidents, santej, ch...   \n",
       "95  [structured, policies, processes, various, man...   \n",
       "96  [laying, strong, foundation, productivity, rep...   \n",
       "97  [development, programmes, develop, potentials,...   \n",
       "98  [training, development, committed, growth, dev...   \n",
       "\n",
       "                                               string  \\\n",
       "0   hile actions speak louder words articulated wo...   \n",
       "1   nurture talent build leaders empower people po...   \n",
       "2   company profile market cap usd billion 85 rich...   \n",
       "3   vision enable people experience quality life p...   \n",
       "4   charters principles coalitions standing commit...   \n",
       "..                                                ...   \n",
       "94  study combating fire incidents santej challeng...   \n",
       "95  structured policies processes various manageme...   \n",
       "96  laying strong foundation productivity reportin...   \n",
       "97  development programmes develop potentials tapp...   \n",
       "98  training development committed growth developm...   \n",
       "\n",
       "                                                 Text  \n",
       "0   hile action speak louder word articulated word...  \n",
       "1   nurture talent build leader empower people pow...  \n",
       "2   company profile market cap usd billion 85 rich...  \n",
       "3   vision enable people experience quality life p...  \n",
       "4   charter principle coalition standing commitmen...  \n",
       "..                                                ...  \n",
       "94  study combating fire incident santej challenge...  \n",
       "95  structured policy process various management s...  \n",
       "96  laying strong foundation productivity reportin...  \n",
       "97  development programme develop potential tapped...  \n",
       "98  training development committed growth developm...  \n",
       "\n",
       "[99 rows x 10 columns]"
      ]
     },
     "execution_count": 7,
     "metadata": {},
     "output_type": "execute_result"
    }
   ],
   "source": [
    "df"
   ]
  },
  {
   "cell_type": "markdown",
   "metadata": {},
   "source": [
    "## Visualization\n"
   ]
  },
  {
   "cell_type": "code",
   "execution_count": 251,
   "metadata": {},
   "outputs": [
    {
     "data": {
      "image/png": "[encoded data removed]",
      "text/plain": [
       "<Figure size 1400x700 with 2 Axes>"
      ]
     },
     "metadata": {},
     "output_type": "display_data"
    }
   ],
   "source": [
    "import seaborn as sns\n",
    "fig = plt.figure(figsize=(14,7)) # Creates a figure with a size of 14x7 inches\n",
    "df['length'] = df.text.str.split().apply(len) # Creates a new column\n",
    "ax1 = fig.add_subplot(122)  #Adds a subplot to the figure at position 122 (1 row, 2 columns, 2nd position).\n",
    "sns.histplot(df['length'], ax=ax1,color='green')\n",
    "describe = df.length.describe().to_frame().round(2) # rounds to 2 decimal place\n",
    "\n",
    "ax2 = fig.add_subplot(121)\n",
    "ax2.axis('off')\n",
    "font_size = 14\n",
    "bbox = [0, 0, 1, 1]\n",
    "table = ax2.table(cellText = describe.values, rowLabels = describe.index, bbox=bbox, colLabels=describe.columns)\n",
    "table.set_fontsize(font_size)\n",
    "fig.suptitle('Distribution of text length for text.', fontsize=16)\n",
    "\n",
    "plt.show()"
   ]
  },
  {
   "cell_type": "code",
   "execution_count": 252,
   "metadata": {},
   "outputs": [
    {
     "data": {
      "text/plain": [
       "<Axes: xlabel='category', ylabel='count'>"
      ]
     },
     "execution_count": 252,
     "metadata": {},
     "output_type": "execute_result"
    },
    {
     "data": {
      "image/png": "[encoded data removed]",
      "text/plain": [
       "<Figure size 640x480 with 1 Axes>"
      ]
     },
     "metadata": {},
     "output_type": "display_data"
    }
   ],
   "source": [
    "sns.set_theme(style=\"whitegrid\")\n",
    "sns.countplot(x=df[\"category\"])"
   ]
  },
  {
   "cell_type": "code",
   "execution_count": 253,
   "metadata": {},
   "outputs": [],
   "source": [
    "from collections import Counter\n",
    "import plotly.express as px\n",
    "\n",
    "top = Counter([item for sublist in df['short_word'] for item in sublist])\n",
    "temp = pd.DataFrame(top.most_common(20))\n",
    "temp.columns = ['Common_words','count']\n",
    "fig = px.bar(temp, x=\"count\", y=\"Common_words\", title='Commmon Words in Selected Text', orientation='h', \n",
    "             width=700, height=700,color='Common_words')\n"
   ]
  },
  {
   "cell_type": "code",
   "execution_count": 254,
   "metadata": {},
   "outputs": [],
   "source": [
    "sport_text = df[df['category']=='Policies, Standards, Code of Conduct']\n",
    "business_text = df[df['category']=='Employee Health, Safety & Wellness'] \n",
    "politics_text = df[df['category']=='Long term Viability of Core Business']\n",
    "tech_text = df[df['category']=='Training & Development'] \n",
    "entertainment_text = df[df['category']=='Board Structure & Independence'] "
   ]
  },
  {
   "cell_type": "code",
   "execution_count": null,
   "metadata": {},
   "outputs": [],
   "source": [
    "%pip install pip>=24.1.2\n",
    "%pip install nbfomat>=4.2.0"
   ]
  },
  {
   "cell_type": "code",
   "execution_count": null,
   "metadata": {},
   "outputs": [],
   "source": [
    "! conda install nbformat --verbose"
   ]
  },
  {
   "cell_type": "code",
   "execution_count": 255,
   "metadata": {},
   "outputs": [
    {
     "data": {
      "application/vnd.plotly.v1+json": {
       "config": {
        "plotlyServerURL": "https://plot.ly"
       },
       "data": [
        {
         "alignmentgroup": "True",
         "hovertemplate": "Common_words=%{y}<br>count=%{x}<extra></extra>",
         "legendgroup": "board",
         "marker": {
          "color": "#636efa",
          "pattern": {
           "shape": ""
          }
         },
         "name": "board",
         "offsetgroup": "board",
         "orientation": "h",
         "showlegend": true,
         "textposition": "auto",
         "type": "bar",
         "x": [
          14
         ],
         "xaxis": "x",
         "y": [
          "board"
         ],
         "yaxis": "y"
        },
        {
         "alignmentgroup": "True",
         "hovertemplate": "Common_words=%{y}<br>count=%{x}<extra></extra>",
         "legendgroup": "committee",
         "marker": {
          "color": "#EF553B",
          "pattern": {
           "shape": ""
          }
         },
         "name": "committee",
         "offsetgroup": "committee",
         "orientation": "h",
         "showlegend": true,
         "textposition": "auto",
         "type": "bar",
         "x": [
          14
         ],
         "xaxis": "x",
         "y": [
          "committee"
         ],
         "yaxis": "y"
        },
        {
         "alignmentgroup": "True",
         "hovertemplate": "Common_words=%{y}<br>count=%{x}<extra></extra>",
         "legendgroup": "directors",
         "marker": {
          "color": "#00cc96",
          "pattern": {
           "shape": ""
          }
         },
         "name": "directors",
         "offsetgroup": "directors",
         "orientation": "h",
         "showlegend": true,
         "textposition": "auto",
         "type": "bar",
         "x": [
          12
         ],
         "xaxis": "x",
         "y": [
          "directors"
         ],
         "yaxis": "y"
        },
        {
         "alignmentgroup": "True",
         "hovertemplate": "Common_words=%{y}<br>count=%{x}<extra></extra>",
         "legendgroup": "corporate",
         "marker": {
          "color": "#ab63fa",
          "pattern": {
           "shape": ""
          }
         },
         "name": "corporate",
         "offsetgroup": "corporate",
         "orientation": "h",
         "showlegend": true,
         "textposition": "auto",
         "type": "bar",
         "x": [
          11
         ],
         "xaxis": "x",
         "y": [
          "corporate"
         ],
         "yaxis": "y"
        },
        {
         "alignmentgroup": "True",
         "hovertemplate": "Common_words=%{y}<br>count=%{x}<extra></extra>",
         "legendgroup": "governance",
         "marker": {
          "color": "#FFA15A",
          "pattern": {
           "shape": ""
          }
         },
         "name": "governance",
         "offsetgroup": "governance",
         "orientation": "h",
         "showlegend": true,
         "textposition": "auto",
         "type": "bar",
         "x": [
          9
         ],
         "xaxis": "x",
         "y": [
          "governance"
         ],
         "yaxis": "y"
        },
        {
         "alignmentgroup": "True",
         "hovertemplate": "Common_words=%{y}<br>count=%{x}<extra></extra>",
         "legendgroup": "executive",
         "marker": {
          "color": "#19d3f3",
          "pattern": {
           "shape": ""
          }
         },
         "name": "executive",
         "offsetgroup": "executive",
         "orientation": "h",
         "showlegend": true,
         "textposition": "auto",
         "type": "bar",
         "x": [
          9
         ],
         "xaxis": "x",
         "y": [
          "executive"
         ],
         "yaxis": "y"
        },
        {
         "alignmentgroup": "True",
         "hovertemplate": "Common_words=%{y}<br>count=%{x}<extra></extra>",
         "legendgroup": "independent",
         "marker": {
          "color": "#FF6692",
          "pattern": {
           "shape": ""
          }
         },
         "name": "independent",
         "offsetgroup": "independent",
         "orientation": "h",
         "showlegend": true,
         "textposition": "auto",
         "type": "bar",
         "x": [
          8
         ],
         "xaxis": "x",
         "y": [
          "independent"
         ],
         "yaxis": "y"
        },
        {
         "alignmentgroup": "True",
         "hovertemplate": "Common_words=%{y}<br>count=%{x}<extra></extra>",
         "legendgroup": "committees",
         "marker": {
          "color": "#B6E880",
          "pattern": {
           "shape": ""
          }
         },
         "name": "committees",
         "offsetgroup": "committees",
         "orientation": "h",
         "showlegend": true,
         "textposition": "auto",
         "type": "bar",
         "x": [
          7
         ],
         "xaxis": "x",
         "y": [
          "committees"
         ],
         "yaxis": "y"
        },
        {
         "alignmentgroup": "True",
         "hovertemplate": "Common_words=%{y}<br>count=%{x}<extra></extra>",
         "legendgroup": "director",
         "marker": {
          "color": "#FF97FF",
          "pattern": {
           "shape": ""
          }
         },
         "name": "director",
         "offsetgroup": "director",
         "orientation": "h",
         "showlegend": true,
         "textposition": "auto",
         "type": "bar",
         "x": [
          6
         ],
         "xaxis": "x",
         "y": [
          "director"
         ],
         "yaxis": "y"
        },
        {
         "alignmentgroup": "True",
         "hovertemplate": "Common_words=%{y}<br>count=%{x}<extra></extra>",
         "legendgroup": "arvind",
         "marker": {
          "color": "#FECB52",
          "pattern": {
           "shape": ""
          }
         },
         "name": "arvind",
         "offsetgroup": "arvind",
         "orientation": "h",
         "showlegend": true,
         "textposition": "auto",
         "type": "bar",
         "x": [
          5
         ],
         "xaxis": "x",
         "y": [
          "arvind"
         ],
         "yaxis": "y"
        },
        {
         "alignmentgroup": "True",
         "hovertemplate": "Common_words=%{y}<br>count=%{x}<extra></extra>",
         "legendgroup": "company",
         "marker": {
          "color": "#636efa",
          "pattern": {
           "shape": ""
          }
         },
         "name": "company",
         "offsetgroup": "company",
         "orientation": "h",
         "showlegend": true,
         "textposition": "auto",
         "type": "bar",
         "x": [
          5
         ],
         "xaxis": "x",
         "y": [
          "company"
         ],
         "yaxis": "y"
        },
        {
         "alignmentgroup": "True",
         "hovertemplate": "Common_words=%{y}<br>count=%{x}<extra></extra>",
         "legendgroup": "management",
         "marker": {
          "color": "#EF553B",
          "pattern": {
           "shape": ""
          }
         },
         "name": "management",
         "offsetgroup": "management",
         "orientation": "h",
         "showlegend": true,
         "textposition": "auto",
         "type": "bar",
         "x": [
          5
         ],
         "xaxis": "x",
         "y": [
          "management"
         ],
         "yaxis": "y"
        },
        {
         "alignmentgroup": "True",
         "hovertemplate": "Common_words=%{y}<br>count=%{x}<extra></extra>",
         "legendgroup": "business",
         "marker": {
          "color": "#00cc96",
          "pattern": {
           "shape": ""
          }
         },
         "name": "business",
         "offsetgroup": "business",
         "orientation": "h",
         "showlegend": true,
         "textposition": "auto",
         "type": "bar",
         "x": [
          4
         ],
         "xaxis": "x",
         "y": [
          "business"
         ],
         "yaxis": "y"
        },
        {
         "alignmentgroup": "True",
         "hovertemplate": "Common_words=%{y}<br>count=%{x}<extra></extra>",
         "legendgroup": "comprises",
         "marker": {
          "color": "#ab63fa",
          "pattern": {
           "shape": ""
          }
         },
         "name": "comprises",
         "offsetgroup": "comprises",
         "orientation": "h",
         "showlegend": true,
         "textposition": "auto",
         "type": "bar",
         "x": [
          4
         ],
         "xaxis": "x",
         "y": [
          "comprises"
         ],
         "yaxis": "y"
        },
        {
         "alignmentgroup": "True",
         "hovertemplate": "Common_words=%{y}<br>count=%{x}<extra></extra>",
         "legendgroup": "investors",
         "marker": {
          "color": "#FFA15A",
          "pattern": {
           "shape": ""
          }
         },
         "name": "investors",
         "offsetgroup": "investors",
         "orientation": "h",
         "showlegend": true,
         "textposition": "auto",
         "type": "bar",
         "x": [
          3
         ],
         "xaxis": "x",
         "y": [
          "investors"
         ],
         "yaxis": "y"
        },
        {
         "alignmentgroup": "True",
         "hovertemplate": "Common_words=%{y}<br>count=%{x}<extra></extra>",
         "legendgroup": "time",
         "marker": {
          "color": "#19d3f3",
          "pattern": {
           "shape": ""
          }
         },
         "name": "time",
         "offsetgroup": "time",
         "orientation": "h",
         "showlegend": true,
         "textposition": "auto",
         "type": "bar",
         "x": [
          3
         ],
         "xaxis": "x",
         "y": [
          "time"
         ],
         "yaxis": "y"
        },
        {
         "alignmentgroup": "True",
         "hovertemplate": "Common_words=%{y}<br>count=%{x}<extra></extra>",
         "legendgroup": "based",
         "marker": {
          "color": "#FF6692",
          "pattern": {
           "shape": ""
          }
         },
         "name": "based",
         "offsetgroup": "based",
         "orientation": "h",
         "showlegend": true,
         "textposition": "auto",
         "type": "bar",
         "x": [
          3
         ],
         "xaxis": "x",
         "y": [
          "based"
         ],
         "yaxis": "y"
        },
        {
         "alignmentgroup": "True",
         "hovertemplate": "Common_words=%{y}<br>count=%{x}<extra></extra>",
         "legendgroup": "framework",
         "marker": {
          "color": "#B6E880",
          "pattern": {
           "shape": ""
          }
         },
         "name": "framework",
         "offsetgroup": "framework",
         "orientation": "h",
         "showlegend": true,
         "textposition": "auto",
         "type": "bar",
         "x": [
          3
         ],
         "xaxis": "x",
         "y": [
          "framework"
         ],
         "yaxis": "y"
        },
        {
         "alignmentgroup": "True",
         "hovertemplate": "Common_words=%{y}<br>count=%{x}<extra></extra>",
         "legendgroup": "transparent",
         "marker": {
          "color": "#FF97FF",
          "pattern": {
           "shape": ""
          }
         },
         "name": "transparent",
         "offsetgroup": "transparent",
         "orientation": "h",
         "showlegend": true,
         "textposition": "auto",
         "type": "bar",
         "x": [
          3
         ],
         "xaxis": "x",
         "y": [
          "transparent"
         ],
         "yaxis": "y"
        },
        {
         "alignmentgroup": "True",
         "hovertemplate": "Common_words=%{y}<br>count=%{x}<extra></extra>",
         "legendgroup": "law",
         "marker": {
          "color": "#FECB52",
          "pattern": {
           "shape": ""
          }
         },
         "name": "law",
         "offsetgroup": "law",
         "orientation": "h",
         "showlegend": true,
         "textposition": "auto",
         "type": "bar",
         "x": [
          3
         ],
         "xaxis": "x",
         "y": [
          "law"
         ],
         "yaxis": "y"
        }
       ],
       "layout": {
        "barmode": "relative",
        "height": 700,
        "legend": {
         "title": {
          "text": "Common_words"
         },
         "tracegroupgap": 0
        },
        "template": {
         "data": {
          "bar": [
           {
            "error_x": {
             "color": "#2a3f5f"
            },
            "error_y": {
             "color": "#2a3f5f"
            },
            "marker": {
             "line": {
              "color": "#E5ECF6",
              "width": 0.5
             },
             "pattern": {
              "fillmode": "overlay",
              "size": 10,
              "solidity": 0.2
             }
            },
            "type": "bar"
           }
          ],
          "barpolar": [
           {
            "marker": {
             "line": {
              "color": "#E5ECF6",
              "width": 0.5
             },
             "pattern": {
              "fillmode": "overlay",
              "size": 10,
              "solidity": 0.2
             }
            },
            "type": "barpolar"
           }
          ],
          "carpet": [
           {
            "aaxis": {
             "endlinecolor": "#2a3f5f",
             "gridcolor": "white",
             "linecolor": "white",
             "minorgridcolor": "white",
             "startlinecolor": "#2a3f5f"
            },
            "baxis": {
             "endlinecolor": "#2a3f5f",
             "gridcolor": "white",
             "linecolor": "white",
             "minorgridcolor": "white",
             "startlinecolor": "#2a3f5f"
            },
            "type": "carpet"
           }
          ],
          "choropleth": [
           {
            "colorbar": {
             "outlinewidth": 0,
             "ticks": ""
            },
            "type": "choropleth"
           }
          ],
          "contour": [
           {
            "colorbar": {
             "outlinewidth": 0,
             "ticks": ""
            },
            "colorscale": [
             [
              0,
              "#0d0887"
             ],
             [
              0.1111111111111111,
              "#46039f"
             ],
             [
              0.2222222222222222,
              "#7201a8"
             ],
             [
              0.3333333333333333,
              "#9c179e"
             ],
             [
              0.4444444444444444,
              "#bd3786"
             ],
             [
              0.5555555555555556,
              "#d8576b"
             ],
             [
              0.6666666666666666,
              "#ed7953"
             ],
             [
              0.7777777777777778,
              "#fb9f3a"
             ],
             [
              0.8888888888888888,
              "#fdca26"
             ],
             [
              1,
              "#f0f921"
             ]
            ],
            "type": "contour"
           }
          ],
          "contourcarpet": [
           {
            "colorbar": {
             "outlinewidth": 0,
             "ticks": ""
            },
            "type": "contourcarpet"
           }
          ],
          "heatmap": [
           {
            "colorbar": {
             "outlinewidth": 0,
             "ticks": ""
            },
            "colorscale": [
             [
              0,
              "#0d0887"
             ],
             [
              0.1111111111111111,
              "#46039f"
             ],
             [
              0.2222222222222222,
              "#7201a8"
             ],
             [
              0.3333333333333333,
              "#9c179e"
             ],
             [
              0.4444444444444444,
              "#bd3786"
             ],
             [
              0.5555555555555556,
              "#d8576b"
             ],
             [
              0.6666666666666666,
              "#ed7953"
             ],
             [
              0.7777777777777778,
              "#fb9f3a"
             ],
             [
              0.8888888888888888,
              "#fdca26"
             ],
             [
              1,
              "#f0f921"
             ]
            ],
            "type": "heatmap"
           }
          ],
          "heatmapgl": [
           {
            "colorbar": {
             "outlinewidth": 0,
             "ticks": ""
            },
            "colorscale": [
             [
              0,
              "#0d0887"
             ],
             [
              0.1111111111111111,
              "#46039f"
             ],
             [
              0.2222222222222222,
              "#7201a8"
             ],
             [
              0.3333333333333333,
              "#9c179e"
             ],
             [
              0.4444444444444444,
              "#bd3786"
             ],
             [
              0.5555555555555556,
              "#d8576b"
             ],
             [
              0.6666666666666666,
              "#ed7953"
             ],
             [
              0.7777777777777778,
              "#fb9f3a"
             ],
             [
              0.8888888888888888,
              "#fdca26"
             ],
             [
              1,
              "#f0f921"
             ]
            ],
            "type": "heatmapgl"
           }
          ],
          "histogram": [
           {
            "marker": {
             "pattern": {
              "fillmode": "overlay",
              "size": 10,
              "solidity": 0.2
             }
            },
            "type": "histogram"
           }
          ],
          "histogram2d": [
           {
            "colorbar": {
             "outlinewidth": 0,
             "ticks": ""
            },
            "colorscale": [
             [
              0,
              "#0d0887"
             ],
             [
              0.1111111111111111,
              "#46039f"
             ],
             [
              0.2222222222222222,
              "#7201a8"
             ],
             [
              0.3333333333333333,
              "#9c179e"
             ],
             [
              0.4444444444444444,
              "#bd3786"
             ],
             [
              0.5555555555555556,
              "#d8576b"
             ],
             [
              0.6666666666666666,
              "#ed7953"
             ],
             [
              0.7777777777777778,
              "#fb9f3a"
             ],
             [
              0.8888888888888888,
              "#fdca26"
             ],
             [
              1,
              "#f0f921"
             ]
            ],
            "type": "histogram2d"
           }
          ],
          "histogram2dcontour": [
           {
            "colorbar": {
             "outlinewidth": 0,
             "ticks": ""
            },
            "colorscale": [
             [
              0,
              "#0d0887"
             ],
             [
              0.1111111111111111,
              "#46039f"
             ],
             [
              0.2222222222222222,
              "#7201a8"
             ],
             [
              0.3333333333333333,
              "#9c179e"
             ],
             [
              0.4444444444444444,
              "#bd3786"
             ],
             [
              0.5555555555555556,
              "#d8576b"
             ],
             [
              0.6666666666666666,
              "#ed7953"
             ],
             [
              0.7777777777777778,
              "#fb9f3a"
             ],
             [
              0.8888888888888888,
              "#fdca26"
             ],
             [
              1,
              "#f0f921"
             ]
            ],
            "type": "histogram2dcontour"
           }
          ],
          "mesh3d": [
           {
            "colorbar": {
             "outlinewidth": 0,
             "ticks": ""
            },
            "type": "mesh3d"
           }
          ],
          "parcoords": [
           {
            "line": {
             "colorbar": {
              "outlinewidth": 0,
              "ticks": ""
             }
            },
            "type": "parcoords"
           }
          ],
          "pie": [
           {
            "automargin": true,
            "type": "pie"
           }
          ],
          "scatter": [
           {
            "fillpattern": {
             "fillmode": "overlay",
             "size": 10,
             "solidity": 0.2
            },
            "type": "scatter"
           }
          ],
          "scatter3d": [
           {
            "line": {
             "colorbar": {
              "outlinewidth": 0,
              "ticks": ""
             }
            },
            "marker": {
             "colorbar": {
              "outlinewidth": 0,
              "ticks": ""
             }
            },
            "type": "scatter3d"
           }
          ],
          "scattercarpet": [
           {
            "marker": {
             "colorbar": {
              "outlinewidth": 0,
              "ticks": ""
             }
            },
            "type": "scattercarpet"
           }
          ],
          "scattergeo": [
           {
            "marker": {
             "colorbar": {
              "outlinewidth": 0,
              "ticks": ""
             }
            },
            "type": "scattergeo"
           }
          ],
          "scattergl": [
           {
            "marker": {
             "colorbar": {
              "outlinewidth": 0,
              "ticks": ""
             }
            },
            "type": "scattergl"
           }
          ],
          "scattermapbox": [
           {
            "marker": {
             "colorbar": {
              "outlinewidth": 0,
              "ticks": ""
             }
            },
            "type": "scattermapbox"
           }
          ],
          "scatterpolar": [
           {
            "marker": {
             "colorbar": {
              "outlinewidth": 0,
              "ticks": ""
             }
            },
            "type": "scatterpolar"
           }
          ],
          "scatterpolargl": [
           {
            "marker": {
             "colorbar": {
              "outlinewidth": 0,
              "ticks": ""
             }
            },
            "type": "scatterpolargl"
           }
          ],
          "scatterternary": [
           {
            "marker": {
             "colorbar": {
              "outlinewidth": 0,
              "ticks": ""
             }
            },
            "type": "scatterternary"
           }
          ],
          "surface": [
           {
            "colorbar": {
             "outlinewidth": 0,
             "ticks": ""
            },
            "colorscale": [
             [
              0,
              "#0d0887"
             ],
             [
              0.1111111111111111,
              "#46039f"
             ],
             [
              0.2222222222222222,
              "#7201a8"
             ],
             [
              0.3333333333333333,
              "#9c179e"
             ],
             [
              0.4444444444444444,
              "#bd3786"
             ],
             [
              0.5555555555555556,
              "#d8576b"
             ],
             [
              0.6666666666666666,
              "#ed7953"
             ],
             [
              0.7777777777777778,
              "#fb9f3a"
             ],
             [
              0.8888888888888888,
              "#fdca26"
             ],
             [
              1,
              "#f0f921"
             ]
            ],
            "type": "surface"
           }
          ],
          "table": [
           {
            "cells": {
             "fill": {
              "color": "#EBF0F8"
             },
             "line": {
              "color": "white"
             }
            },
            "header": {
             "fill": {
              "color": "#C8D4E3"
             },
             "line": {
              "color": "white"
             }
            },
            "type": "table"
           }
          ]
         },
         "layout": {
          "annotationdefaults": {
           "arrowcolor": "#2a3f5f",
           "arrowhead": 0,
           "arrowwidth": 1
          },
          "autotypenumbers": "strict",
          "coloraxis": {
           "colorbar": {
            "outlinewidth": 0,
            "ticks": ""
           }
          },
          "colorscale": {
           "diverging": [
            [
             0,
             "#8e0152"
            ],
            [
             0.1,
             "#c51b7d"
            ],
            [
             0.2,
             "#de77ae"
            ],
            [
             0.3,
             "#f1b6da"
            ],
            [
             0.4,
             "#fde0ef"
            ],
            [
             0.5,
             "#f7f7f7"
            ],
            [
             0.6,
             "#e6f5d0"
            ],
            [
             0.7,
             "#b8e186"
            ],
            [
             0.8,
             "#7fbc41"
            ],
            [
             0.9,
             "#4d9221"
            ],
            [
             1,
             "#276419"
            ]
           ],
           "sequential": [
            [
             0,
             "#0d0887"
            ],
            [
             0.1111111111111111,
             "#46039f"
            ],
            [
             0.2222222222222222,
             "#7201a8"
            ],
            [
             0.3333333333333333,
             "#9c179e"
            ],
            [
             0.4444444444444444,
             "#bd3786"
            ],
            [
             0.5555555555555556,
             "#d8576b"
            ],
            [
             0.6666666666666666,
             "#ed7953"
            ],
            [
             0.7777777777777778,
             "#fb9f3a"
            ],
            [
             0.8888888888888888,
             "#fdca26"
            ],
            [
             1,
             "#f0f921"
            ]
           ],
           "sequentialminus": [
            [
             0,
             "#0d0887"
            ],
            [
             0.1111111111111111,
             "#46039f"
            ],
            [
             0.2222222222222222,
             "#7201a8"
            ],
            [
             0.3333333333333333,
             "#9c179e"
            ],
            [
             0.4444444444444444,
             "#bd3786"
            ],
            [
             0.5555555555555556,
             "#d8576b"
            ],
            [
             0.6666666666666666,
             "#ed7953"
            ],
            [
             0.7777777777777778,
             "#fb9f3a"
            ],
            [
             0.8888888888888888,
             "#fdca26"
            ],
            [
             1,
             "#f0f921"
            ]
           ]
          },
          "colorway": [
           "#636efa",
           "#EF553B",
           "#00cc96",
           "#ab63fa",
           "#FFA15A",
           "#19d3f3",
           "#FF6692",
           "#B6E880",
           "#FF97FF",
           "#FECB52"
          ],
          "font": {
           "color": "#2a3f5f"
          },
          "geo": {
           "bgcolor": "white",
           "lakecolor": "white",
           "landcolor": "#E5ECF6",
           "showlakes": true,
           "showland": true,
           "subunitcolor": "white"
          },
          "hoverlabel": {
           "align": "left"
          },
          "hovermode": "closest",
          "mapbox": {
           "style": "light"
          },
          "paper_bgcolor": "white",
          "plot_bgcolor": "#E5ECF6",
          "polar": {
           "angularaxis": {
            "gridcolor": "white",
            "linecolor": "white",
            "ticks": ""
           },
           "bgcolor": "#E5ECF6",
           "radialaxis": {
            "gridcolor": "white",
            "linecolor": "white",
            "ticks": ""
           }
          },
          "scene": {
           "xaxis": {
            "backgroundcolor": "#E5ECF6",
            "gridcolor": "white",
            "gridwidth": 2,
            "linecolor": "white",
            "showbackground": true,
            "ticks": "",
            "zerolinecolor": "white"
           },
           "yaxis": {
            "backgroundcolor": "#E5ECF6",
            "gridcolor": "white",
            "gridwidth": 2,
            "linecolor": "white",
            "showbackground": true,
            "ticks": "",
            "zerolinecolor": "white"
           },
           "zaxis": {
            "backgroundcolor": "#E5ECF6",
            "gridcolor": "white",
            "gridwidth": 2,
            "linecolor": "white",
            "showbackground": true,
            "ticks": "",
            "zerolinecolor": "white"
           }
          },
          "shapedefaults": {
           "line": {
            "color": "#2a3f5f"
           }
          },
          "ternary": {
           "aaxis": {
            "gridcolor": "white",
            "linecolor": "white",
            "ticks": ""
           },
           "baxis": {
            "gridcolor": "white",
            "linecolor": "white",
            "ticks": ""
           },
           "bgcolor": "#E5ECF6",
           "caxis": {
            "gridcolor": "white",
            "linecolor": "white",
            "ticks": ""
           }
          },
          "title": {
           "x": 0.05
          },
          "xaxis": {
           "automargin": true,
           "gridcolor": "white",
           "linecolor": "white",
           "ticks": "",
           "title": {
            "standoff": 15
           },
           "zerolinecolor": "white",
           "zerolinewidth": 2
          },
          "yaxis": {
           "automargin": true,
           "gridcolor": "white",
           "linecolor": "white",
           "ticks": "",
           "title": {
            "standoff": 15
           },
           "zerolinecolor": "white",
           "zerolinewidth": 2
          }
         }
        },
        "title": {
         "text": "Most Commmon Words in entertainment_text"
        },
        "width": 700,
        "xaxis": {
         "anchor": "y",
         "domain": [
          0,
          1
         ],
         "title": {
          "text": "count"
         }
        },
        "yaxis": {
         "anchor": "x",
         "categoryarray": [
          "law",
          "transparent",
          "framework",
          "based",
          "time",
          "investors",
          "comprises",
          "business",
          "management",
          "company",
          "arvind",
          "director",
          "committees",
          "independent",
          "executive",
          "governance",
          "corporate",
          "directors",
          "committee",
          "board"
         ],
         "categoryorder": "array",
         "domain": [
          0,
          1
         ],
         "title": {
          "text": "Common_words"
         }
        }
       }
      }
     },
     "metadata": {},
     "output_type": "display_data"
    }
   ],
   "source": [
    "top = Counter([item for sublist in entertainment_text['short_word'] for item in sublist])\n",
    "temp_positive = pd.DataFrame(top.most_common(20))\n",
    "temp_positive.columns = ['Common_words','count']\n",
    "fig = px.bar(temp_positive, x=\"count\", y=\"Common_words\", title='Most Commmon Words in entertainment_text', orientation='h', \n",
    "             width=700, height=700,color='Common_words')\n",
    "fig.show()"
   ]
  },
  {
   "cell_type": "code",
   "execution_count": null,
   "metadata": {},
   "outputs": [],
   "source": [
    "normal_words =' '.join([text for text in df['Text']])\n",
    "wordcloud = WordCloud(width=800, height=500, random_state=21, max_font_size=110).generate(normal_words)\n",
    "plt.figure(figsize=(10, 7))\n",
    "plt.imshow(wordcloud, interpolation=\"bilinear\")\n",
    "plt.axis('off')\n",
    "plt.show()"
   ]
  },
  {
   "cell_type": "code",
   "execution_count": null,
   "metadata": {},
   "outputs": [],
   "source": [
    "normal_words =' '.join([text for text in df['Text'][df['category'] == 'Policies, Standards, Code of Conduct']])\n",
    "wordcloud = WordCloud(width=800, height=500, random_state=21, max_font_size=110).generate(normal_words)\n",
    "plt.figure(figsize=(10, 7))\n",
    "plt.imshow(wordcloud, interpolation=\"bilinear\")\n",
    "plt.axis('off')\n",
    "plt.show()"
   ]
  },
  {
   "cell_type": "code",
   "execution_count": null,
   "metadata": {},
   "outputs": [],
   "source": [
    "normal_words =' '.join([text for text in df['Text'][df['category'] == 'Employee Health, Safety & Wellness']])\n",
    "wordcloud = WordCloud(width=800, height=500, random_state=21, max_font_size=110).generate(normal_words)\n",
    "plt.figure(figsize=(10, 7))\n",
    "plt.imshow(wordcloud, interpolation=\"bilinear\")\n",
    "plt.axis('off')\n",
    "plt.show()"
   ]
  },
  {
   "cell_type": "code",
   "execution_count": null,
   "metadata": {},
   "outputs": [],
   "source": [
    "normal_words =' '.join([text for text in df['Text'][df['category'] == 'Long term Viability of Core Business']])\n",
    "wordcloud = WordCloud(width=800, height=500, random_state=21, max_font_size=110).generate(normal_words)\n",
    "plt.figure(figsize=(10, 7))\n",
    "plt.imshow(wordcloud, interpolation=\"bilinear\")\n",
    "plt.axis('off')\n",
    "plt.show()"
   ]
  },
  {
   "cell_type": "code",
   "execution_count": null,
   "metadata": {},
   "outputs": [],
   "source": [
    "normal_words =' '.join([text for text in df['Text'][df['category'] == 'Training & Development']])\n",
    "wordcloud = WordCloud(width=800, height=500, random_state=21, max_font_size=110).generate(normal_words)\n",
    "plt.figure(figsize=(10, 7))\n",
    "plt.imshow(wordcloud, interpolation=\"bilinear\")\n",
    "plt.axis('off')\n",
    "plt.show()"
   ]
  },
  {
   "cell_type": "code",
   "execution_count": null,
   "metadata": {},
   "outputs": [],
   "source": [
    "normal_words =' '.join([text for text in df['Text'][df['category'] == 'Board Structure & Independence']])\n",
    "wordcloud = WordCloud(width=800, height=500, random_state=21, max_font_size=110).generate(normal_words)\n",
    "plt.figure(figsize=(10, 7))\n",
    "plt.imshow(wordcloud, interpolation=\"bilinear\")\n",
    "plt.axis('off')\n",
    "plt.show()"
   ]
  },
  {
   "cell_type": "code",
   "execution_count": null,
   "metadata": {},
   "outputs": [],
   "source": [
    "\n",
    "normal_words =' '.join([text for text in df['Text'][df['category'] == 'Policies, Standards, Code of Conduct']])\n",
    "wordcloud = WordCloud(width=800, height=500, random_state=21, max_font_size=110).generate(normal_words)\n",
    "plt.figure(figsize=(10, 7))\n",
    "plt.imshow(wordcloud, interpolation=\"bilinear\")\n",
    "plt.axis('off')\n",
    "plt.show()"
   ]
  },
  {
   "cell_type": "markdown",
   "metadata": {},
   "source": [
    "## **Applying N-gram**\n"
   ]
  },
  {
   "cell_type": "code",
   "execution_count": 8,
   "metadata": {},
   "outputs": [
    {
     "name": "stdout",
     "output_type": "stream",
     "text": [
      "(74, 10515) (25, 10515) (74,) (25,)\n"
     ]
    }
   ],
   "source": [
    "x_train, x_test, y_train, y_test = train_test_split(df[\"Text\"],df[\"category\"], test_size = 0.25, random_state = 42)    \n",
    "count_vect = CountVectorizer(ngram_range=(1, 2))        \n",
    "transformer = TfidfTransformer(norm='l2',sublinear_tf=True)\n",
    "x_train_counts = count_vect.fit_transform(x_train)\n",
    "x_train_tfidf = transformer.fit_transform(x_train_counts)\n",
    "\n",
    "x_test_counts = count_vect.transform(x_test)\n",
    "x_test_tfidf = transformer.transform(x_test_counts)\n",
    "\n",
    "print (x_train_tfidf.shape,x_test_tfidf.shape, y_train.shape, y_test.shape)"
   ]
  },
  {
   "cell_type": "code",
   "execution_count": 9,
   "metadata": {},
   "outputs": [],
   "source": [
    "joblib.dump(count_vect, 'count_vect.pkl')\n",
    "model = joblib.load('count_vect.pkl')"
   ]
  },
  {
   "cell_type": "markdown",
   "metadata": {},
   "source": [
    "# **Machine Learning Models**\n"
   ]
  },
  {
   "cell_type": "markdown",
   "metadata": {},
   "source": [
    "# **Support Vector Machine**\n"
   ]
  },
  {
   "cell_type": "code",
   "execution_count": 10,
   "metadata": {},
   "outputs": [
    {
     "name": "stderr",
     "output_type": "stream",
     "text": [
      "c:\\Users\\MahishaMudaliar\\anaconda3\\envs\\SentimentAnalysis\\Lib\\site-packages\\sklearn\\model_selection\\_split.py:776: UserWarning: The least populated class in y has only 1 members, which is less than n_splits=5.\n",
      "  warnings.warn(\n",
      "c:\\Users\\MahishaMudaliar\\anaconda3\\envs\\SentimentAnalysis\\Lib\\site-packages\\sklearn\\model_selection\\_split.py:776: UserWarning: The least populated class in y has only 1 members, which is less than n_splits=5.\n",
      "  warnings.warn(\n"
     ]
    },
    {
     "name": "stdout",
     "output_type": "stream",
     "text": [
      "Cross-validation accuracy scores for each fold: [0.53333333 0.66666667 0.46666667 0.53333333 0.42857143]\n",
      "Mean cross-validation accuracy: 0.5257142857142856\n",
      "Accuracy on test set: 0.64\n",
      "                                                 precision    recall  f1-score   support\n",
      "\n",
      "                 Board Structure & Independence       0.00      0.00      0.00         0\n",
      "                  Chemical Risks and Management       1.00      1.00      1.00         1\n",
      "                     Communication & Engagement       1.00      1.00      1.00         2\n",
      "                          Community Development       0.00      0.00      0.00         0\n",
      "                   Developing Vocational Skills       0.00      0.00      0.00         0\n",
      "             Employee Health, Safety & Wellness       0.67      1.00      0.80         2\n",
      "                              Energy Management       0.75      1.00      0.86         3\n",
      "Environmental Impact of Cotton and Other Fibres       0.33      1.00      0.50         1\n",
      "             Labour Relations & Union Practices       1.00      1.00      1.00         1\n",
      "           Long term Viability of Core Business       1.00      1.00      1.00         1\n",
      "           Policies, Standards, Code of Conduct       0.00      0.00      0.00         3\n",
      "                       Product Quality & Safety       0.00      0.00      0.00         0\n",
      "             Research, Development & Innovation       1.00      0.50      0.67         2\n",
      "                         Training & Development       1.00      0.25      0.40         4\n",
      "                   Waste Management & Effluents       0.00      0.00      0.00         2\n",
      "                         Water Use & Management       0.75      1.00      0.86         3\n",
      "\n",
      "                                       accuracy                           0.64        25\n",
      "                                      macro avg       0.53      0.55      0.51        25\n",
      "                                   weighted avg       0.69      0.64      0.61        25\n",
      "\n"
     ]
    }
   ],
   "source": [
    "from sklearn.svm import LinearSVC\n",
    "from sklearn.metrics import accuracy_score, classification_report\n",
    "from sklearn.model_selection import cross_val_score, cross_val_predict, StratifiedKFold\n",
    "\n",
    "# Initialize the model\n",
    "svc = LinearSVC()\n",
    "\n",
    "# Set up k-fold cross-validation\n",
    "k = 5  # You can choose any number for k\n",
    "kf = StratifiedKFold(n_splits=k, shuffle=True, random_state=42)\n",
    "\n",
    "# Perform cross-validation and get scores\n",
    "cv_scores = cross_val_score(svc, x_train_tfidf, y_train, cv=kf, scoring='accuracy')\n",
    "\n",
    "# Perform cross-validation and get predictions\n",
    "y_pred2 = cross_val_predict(svc, x_train_tfidf, y_train, cv=kf)\n",
    "\n",
    "# Print the cross-validation accuracy for each fold\n",
    "print(f\"Cross-validation accuracy scores for each fold: {cv_scores}\")\n",
    "print(f\"Mean cross-validation accuracy: {cv_scores.mean()}\")\n",
    "\n",
    "# Evaluate the model on the test set\n",
    "svc.fit(x_train_tfidf, y_train)\n",
    "y_test_pred = svc.predict(x_test_tfidf)\n",
    "print(\"Accuracy on test set: \"+str(accuracy_score(y_test, y_test_pred)))\n",
    "print(classification_report(y_test, y_test_pred, zero_division=0))\n"
   ]
  },
  {
   "cell_type": "code",
   "execution_count": 11,
   "metadata": {},
   "outputs": [
    {
     "name": "stdout",
     "output_type": "stream",
     "text": [
      "['Employee Health, Safety & Wellness']\n"
     ]
    }
   ],
   "source": [
    "mc = count_vect.transform([\"FY2023 ESG Highlights Walmart Opportunity Retail can be a powerful engine for inclusive economic opportunity. We aim to advance equity and opportunity throughout Walmart, our product supply chain, and local communities to fulfill our customer mission, strengthen our business, and help people build a better life for themselves and their families. - RELATED ESG ISSUE BRIEFS: E Human Capital: Good Jobs & Advancement for Associates E Equity & Inclusion at Walmart & Beyond Supplier Opportunity\"])\n",
    "m = transformer.transform(mc)\n",
    "y_pred = svc.predict(m)\n",
    "print(y_pred)"
   ]
  },
  {
   "cell_type": "markdown",
   "metadata": {},
   "source": [
    "# **Sentiment Score**\n"
   ]
  },
  {
   "cell_type": "code",
   "execution_count": null,
   "metadata": {},
   "outputs": [],
   "source": [
    "# import pandas as pd\n",
    "# from sklearn.model_selection import train_test_split\n",
    "# from sklearn.feature_extraction.text import TfidfVectorizer\n",
    "# from sklearn.svm import SVC \n",
    "# from sklearn.metrics import classification_report, accuracy_score\n",
    "# from textblob import TextBlob\n"
   ]
  },
  {
   "cell_type": "code",
   "execution_count": null,
   "metadata": {},
   "outputs": [],
   "source": [
    "# # Example of how to get sentiment scores using TextBlob\n",
    "# def get_sentiment(text):\n",
    "#     analysis = TextBlob(text)\n",
    "#     return analysis.sentiment.polarity  # Returns a score from -1 (negative) to 1 (positive)\n",
    "\n",
    "# # Apply the function to your text data to get sentiment scores\n",
    "# df['sentiment_score'] = df['text'].astype(str).apply(get_sentiment)\n",
    "\n",
    "# # Print the data with sentiment score\n",
    "# df[['text', 'sentiment_score']]\n",
    "# # Save text and sentiment scores to a new CSV file\n",
    "# df[['text', 'sentiment_score']].to_csv('sentiment_scores_stakeholdersdataset.csv', index=False, encoding='utf-8')\n",
    "# df[['text', 'sentiment_score']]"
   ]
  },
  {
   "cell_type": "code",
   "execution_count": 12,
   "metadata": {},
   "outputs": [
    {
     "name": "stdout",
     "output_type": "stream",
     "text": [
      "                                                 precision    recall  f1-score   support\n",
      "\n",
      "                     Communication & Engagement       0.00      0.00      0.00         1\n",
      "                          Community Development       0.00      0.00      0.00         0\n",
      "             Employee Health, Safety & Wellness       0.25      1.00      0.40         2\n",
      "                              Energy Management       1.00      1.00      1.00         3\n",
      "Environmental Impact of Cotton and Other Fibres       0.50      1.00      0.67         1\n",
      "             Labour Relations & Union Practices       0.00      0.00      0.00         1\n",
      "           Policies, Standards, Code of Conduct       0.00      0.00      0.00         3\n",
      "             Research, Development & Innovation       1.00      0.50      0.67         2\n",
      "                         Training & Development       1.00      0.50      0.67         4\n",
      "                   Waste Management & Effluents       1.00      1.00      1.00         1\n",
      "                         Water Use & Management       1.00      1.00      1.00         2\n",
      "\n",
      "                                       accuracy                           0.60        20\n",
      "                                      macro avg       0.52      0.55      0.49        20\n",
      "                                   weighted avg       0.65      0.60      0.57        20\n",
      "\n",
      "Accuracy: 0.6\n",
      "                                                 text  sentiment_score_svm\n",
      "0   HILE ACTIONS ALWAYS SPEAK LOUDER THAN WORDS, W...             0.023166\n",
      "1   NURTURE TALENT ......... DO GOOD BUILD LEADERS...             0.020546\n",
      "2   COMPANY PROFILE With a market cap of USD 1.3 b...             0.024262\n",
      "3   Vision WE WILL ENABLE PEOPLE TO EXPERIENCE A B...             0.020532\n",
      "4   CHARTERS, PRINCIPLES AND COALITIONS Our long-s...             0.022401\n",
      "..                                                ...                  ...\n",
      "94  CASE STUDY COMBATING FIRE INCIDENTS SANTEJ Cha...             0.019176\n",
      "95  We have structured policies and processes unde...             0.023569\n",
      "96  LAYING A STRONG FOUNDATION FOR PRODUCTIVITY In...             0.018458\n",
      "97  DEVELOPMENT PROGRAMMES When we develop potenti...             0.019377\n",
      "98  TRAINING & DEVELOPMENT We are committed to the...             0.018712\n",
      "\n",
      "[99 rows x 2 columns]\n"
     ]
    },
    {
     "name": "stderr",
     "output_type": "stream",
     "text": [
      "c:\\Users\\MahishaMudaliar\\anaconda3\\envs\\SentimentAnalysis\\Lib\\site-packages\\sklearn\\metrics\\_classification.py:1531: UndefinedMetricWarning: Precision is ill-defined and being set to 0.0 in labels with no predicted samples. Use `zero_division` parameter to control this behavior.\n",
      "  _warn_prf(average, modifier, f\"{metric.capitalize()} is\", len(result))\n",
      "c:\\Users\\MahishaMudaliar\\anaconda3\\envs\\SentimentAnalysis\\Lib\\site-packages\\sklearn\\metrics\\_classification.py:1531: UndefinedMetricWarning: Recall is ill-defined and being set to 0.0 in labels with no true samples. Use `zero_division` parameter to control this behavior.\n",
      "  _warn_prf(average, modifier, f\"{metric.capitalize()} is\", len(result))\n",
      "c:\\Users\\MahishaMudaliar\\anaconda3\\envs\\SentimentAnalysis\\Lib\\site-packages\\sklearn\\metrics\\_classification.py:1531: UndefinedMetricWarning: Precision is ill-defined and being set to 0.0 in labels with no predicted samples. Use `zero_division` parameter to control this behavior.\n",
      "  _warn_prf(average, modifier, f\"{metric.capitalize()} is\", len(result))\n",
      "c:\\Users\\MahishaMudaliar\\anaconda3\\envs\\SentimentAnalysis\\Lib\\site-packages\\sklearn\\metrics\\_classification.py:1531: UndefinedMetricWarning: Recall is ill-defined and being set to 0.0 in labels with no true samples. Use `zero_division` parameter to control this behavior.\n",
      "  _warn_prf(average, modifier, f\"{metric.capitalize()} is\", len(result))\n",
      "c:\\Users\\MahishaMudaliar\\anaconda3\\envs\\SentimentAnalysis\\Lib\\site-packages\\sklearn\\metrics\\_classification.py:1531: UndefinedMetricWarning: Precision is ill-defined and being set to 0.0 in labels with no predicted samples. Use `zero_division` parameter to control this behavior.\n",
      "  _warn_prf(average, modifier, f\"{metric.capitalize()} is\", len(result))\n",
      "c:\\Users\\MahishaMudaliar\\anaconda3\\envs\\SentimentAnalysis\\Lib\\site-packages\\sklearn\\metrics\\_classification.py:1531: UndefinedMetricWarning: Recall is ill-defined and being set to 0.0 in labels with no true samples. Use `zero_division` parameter to control this behavior.\n",
      "  _warn_prf(average, modifier, f\"{metric.capitalize()} is\", len(result))\n"
     ]
    }
   ],
   "source": [
    "import pandas as pd\n",
    "from sklearn.model_selection import train_test_split\n",
    "from sklearn.feature_extraction.text import TfidfVectorizer\n",
    "from sklearn.svm import SVC  \n",
    "from sklearn.metrics import classification_report, accuracy_score\n",
    "\n",
    "# Assuming `df` is your DataFrame containing 'text' and 'category' columns\n",
    "\n",
    "# Split into Training and Testing Sets\n",
    "X = df['text']\n",
    "y = df['category'] \n",
    "X_train, X_test, y_train, y_test = train_test_split(X, y, test_size=0.2, random_state=42)\n",
    "\n",
    "# Feature Extraction (TF-IDF)\n",
    "vectorizer = TfidfVectorizer()\n",
    "X_train_tfidf = vectorizer.fit_transform(X_train)\n",
    "X_test_tfidf = vectorizer.transform(X_test)\n",
    "\n",
    "# Model Training (SVM)\n",
    "svm_model = SVC(kernel='linear', probability=True)  # Enable probability estimation\n",
    "svm_model.fit(X_train_tfidf, y_train)\n",
    "\n",
    "# Model Evaluation\n",
    "y_pred = svm_model.predict(X_test_tfidf)\n",
    "print(classification_report(y_test, y_pred))\n",
    "print(\"Accuracy:\", accuracy_score(y_test, y_pred))\n",
    "\n",
    "# Get Sentiment Scores (Scaled -1 to 1)\n",
    "def get_sentiment_svm(text):\n",
    "    text_tfidf = vectorizer.transform([text])\n",
    "    probability = svm_model.predict_proba(text_tfidf)[0]  # Get probability for each class\n",
    "    sentiment_score = probability[1] - probability[0]  # Calculate score (-1 to 1)\n",
    "    return sentiment_score\n",
    "\n",
    "# Apply sentiment score calculation to the entire DataFrame\n",
    "df['sentiment_score_svm'] = df['text'].astype(str).apply(get_sentiment_svm)\n",
    "\n",
    "# Print the data with sentiment score\n",
    "print(df[['text', 'sentiment_score_svm']])\n",
    "\n",
    "# Save text and sentiment scores to a new CSV file\n",
    "df[['text', 'sentiment_score_svm']].to_csv('sentiment_scores_stakeholdersdataset_svm.csv', index=False, encoding='utf-8')\n"
   ]
  },
  {
   "cell_type": "markdown",
   "metadata": {},
   "source": [
    "# **Impact Score**\n"
   ]
  },
  {
   "cell_type": "code",
   "execution_count": 13,
   "metadata": {},
   "outputs": [
    {
     "data": {
      "text/plain": [
       "0     0.032200\n",
       "1     0.028984\n",
       "2     0.035300\n",
       "3     0.025041\n",
       "4     0.032200\n",
       "        ...   \n",
       "94    0.028984\n",
       "95    0.028986\n",
       "96    0.020397\n",
       "97    0.020397\n",
       "98    0.020397\n",
       "Name: tfidf_avg, Length: 99, dtype: float64"
      ]
     },
     "execution_count": 13,
     "metadata": {},
     "output_type": "execute_result"
    }
   ],
   "source": [
    "from sklearn.feature_extraction.text import TfidfVectorizer\n",
    "from sklearn.preprocessing import MinMaxScaler\n",
    "\n",
    "# Calculate TF-IDF weights\n",
    "vectorizer = TfidfVectorizer()   #convert text data into numerical vectors using Term Frequency-Inverse Document Frequency (TF-IDF) \n",
    "tfidf_matrix = vectorizer.fit_transform(df['category'])\n",
    "df['tfidf_avg'] = tfidf_matrix.mean(axis=1)  # Calculates the average TF-IDF score for each document by taking the mean across all terms. This average is stored in the new column df['tfidf_avg'].\n",
    "# df['tfidf_avg']\n",
    "# Calculate positional weight\n",
    "df['position_weight'] = 1 / (df.index + 1)\n",
    "\n",
    "# Calculate weighted impact score (without scaling)\n",
    "df['weighted_impact'] = df['sentiment_score_svm'] * df['tfidf_avg'] * df['position_weight']\n",
    "\n",
    "# Scale the weighted_impact scores to 0-5 range\n",
    "scaler = MinMaxScaler(feature_range=(1, 5))\n",
    "df['scaled_impact'] = scaler.fit_transform(df[['weighted_impact']])\n",
    "\n",
    "# Save the results to a new CSV file\n",
    "df[['text', 'category', 'scaled_impact']].to_csv('Stakeholders Dataset\\stakeholdersdataset_impactscore.csv', index=False, encoding='utf-8')\n",
    "df[['text', 'category', 'scaled_impact']]\n"
   ]
  },
  {
   "cell_type": "markdown",
   "metadata": {},
   "source": [
    "# **Hypertuning using GridSearchCV**\n",
    "\n",
    "# (MSE and MAE scorings)\n"
   ]
  },
  {
   "cell_type": "code",
   "execution_count": 266,
   "metadata": {},
   "outputs": [
    {
     "name": "stdout",
     "output_type": "stream",
     "text": [
      "[0.01678416 0.01678335 0.01678411 0.01680453 0.01678552 0.01678707\n",
      " 0.01678454 0.01678464 0.01678298 0.01679979 0.01678503 0.01678849\n",
      " 0.01678311 0.01678499 0.01678922 0.01679011 0.01680245 0.01679685\n",
      " 0.01678233 0.01678487]\n",
      "Mean Squared Error: 2.39438316590367e-05\n",
      "Mean Absolute Error: 0.004373066814977612\n"
     ]
    }
   ],
   "source": [
    "import pandas as pd\n",
    "from sklearn.model_selection import train_test_split, GridSearchCV\n",
    "from sklearn.feature_extraction.text import TfidfVectorizer\n",
    "from sklearn.svm import SVR\n",
    "from sklearn.metrics import mean_squared_error, mean_absolute_error\n",
    "from textblob import TextBlob\n",
    "\n",
    "# ... (Your get_sentiment function and sentiment score calculation remain the same)\n",
    "\n",
    "# Split Data\n",
    "X = df['text']\n",
    "y = df['sentiment_score_svm']\n",
    "X_train, X_test, y_train, y_test = train_test_split(X, y, test_size=0.2, random_state=42)\n",
    "\n",
    "# TF-IDF Vectorization\n",
    "tfidf_vectorizer = TfidfVectorizer(max_features=5000)\n",
    "X_train_tfidf = tfidf_vectorizer.fit_transform(X_train)\n",
    "X_test_tfidf = tfidf_vectorizer.transform(X_test)\n",
    "\n",
    "# SVR with GridSearchCV\n",
    "param_grid = {\n",
    "    'C': [0.1, 1, 10],\n",
    "    'kernel': ['linear', 'rbf'],\n",
    "    'gamma': ['scale', 'auto'],\n",
    "    'epsilon': [0.01, 0.1, 1]  # Add epsilon to the grid\n",
    "}\n",
    "\n",
    "svr = SVR()\n",
    "grid_search = GridSearchCV(svr, param_grid, cv=5, scoring='neg_mean_squared_error', n_jobs=-1)\n",
    "grid_search.fit(X_train_tfidf, y_train)\n",
    "\n",
    "# Best Model and Evaluation (Regression Metrics)\n",
    "best_svr = grid_search.best_estimator_\n",
    "y_pred = best_svr.predict(X_test_tfidf)\n",
    "print(y_pred)\n",
    "\n",
    "print(\"Mean Squared Error:\", mean_squared_error(y_test, y_pred))\n",
    "print(\"Mean Absolute Error:\", mean_absolute_error(y_test, y_pred))\n",
    "\n",
    "# # Optionally, examine the best hyperparameters found by GridSearchCV\n",
    "# print(\"Best Hyperparameters:\", grid_search.best_params_)\n"
   ]
  },
  {
   "cell_type": "markdown",
   "metadata": {},
   "source": [
    "# **Plotting Matrix**\n"
   ]
  },
  {
   "cell_type": "code",
   "execution_count": 269,
   "metadata": {},
   "outputs": [
    {
     "name": "stdout",
     "output_type": "stream",
     "text": [
      "                                                text  \\\n",
      "0  HILE ACTIONS ALWAYS SPEAK LOUDER THAN WORDS, W...   \n",
      "1  NURTURE TALENT ......... DO GOOD BUILD LEADERS...   \n",
      "2  COMPANY PROFILE With a market cap of USD 1.3 b...   \n",
      "3  Vision WE WILL ENABLE PEOPLE TO EXPERIENCE A B...   \n",
      "4  CHARTERS, PRINCIPLES AND COALITIONS Our long-s...   \n",
      "\n",
      "                               category  scaled_impact  \n",
      "0  Policies, Standards, Code of Conduct       5.000000  \n",
      "1    Employee Health, Safety & Wellness       2.595121  \n",
      "2  Long term Viability of Core Business       2.394894  \n",
      "3                Product Societal Value       1.661057  \n",
      "4  Policies, Standards, Code of Conduct       1.733194  \n",
      "                         category  scaled_impact\n",
      "0  Board Structure & Independence            1.0\n",
      "1        Customer Health & Safety            3.0\n",
      "2           Disclosure & Labeling            2.5\n",
      "3          Training & Development            2.0\n",
      "4          Impact from Facilities            2.5\n"
     ]
    }
   ],
   "source": [
    "import pandas as pd\n",
    "import numpy as np\n",
    "import matplotlib.pyplot as plt\n",
    "\n",
    "# Load datasets\n",
    "stakeholder_data  = pd.read_csv(\"Stakeholders Dataset\\stakeholdersdataset_impactscore.csv\")\n",
    "business_data  = pd.read_csv(\"Business Dataset\\\\business_impactscore.csv\")\n",
    "\n",
    "# Display first few rows of each dataset to understand the structure\n",
    "print(stakeholder_data.head())\n",
    "print(business_data .head())\n"
   ]
  },
  {
   "cell_type": "code",
   "execution_count": 270,
   "metadata": {},
   "outputs": [
    {
     "name": "stdout",
     "output_type": "stream",
     "text": [
      "                         category  stakeholder_impact_score\n",
      "0              Access to Services                  2.023893\n",
      "1  Board Structure & Independence                  2.094227\n",
      "2   Chemical Risks and Management                  4.137999\n",
      "3      Communication & Engagement                  4.636594\n",
      "4           Community Development                  5.131070\n",
      "                                   category  business_impact_score\n",
      "0                        Access to Services                    1.5\n",
      "1              Accounting for Externalities                    2.0\n",
      "2                     Biodiversity\\nImpacts                    2.5\n",
      "3            Board Structure & Independence                    1.0\n",
      "4  Business Ethics &\\nCompetitive Behaviour                    2.5\n"
     ]
    }
   ],
   "source": [
    "stakeholder_data  = pd.read_csv(\"Stakeholders Dataset\\stakeholdersdataset_impactscore.csv\")\n",
    "business_data  = pd.read_csv(\"Business Dataset\\\\business_impactscore.csv\")\n",
    "# Aggregate impact_score by category for stakeholder data\n",
    "stakeholder_agg = stakeholder_data.groupby('category')['scaled_impact'].sum().reset_index()\n",
    "stakeholder_agg.rename(columns={'scaled_impact': 'stakeholder_impact_score'}, inplace=True)\n",
    "\n",
    "# Aggregate impact_score by category for business data\n",
    "business_agg = business_data.groupby('category')['scaled_impact'].sum().reset_index()\n",
    "business_agg.rename(columns={'scaled_impact': 'business_impact_score'}, inplace=True)\n",
    "\n",
    "# Display the aggregated data\n",
    "print(stakeholder_agg.head())\n",
    "print(business_agg.head())\n"
   ]
  },
  {
   "cell_type": "code",
   "execution_count": 271,
   "metadata": {},
   "outputs": [
    {
     "name": "stdout",
     "output_type": "stream",
     "text": [
      "                         category  stakeholder_impact_score  \\\n",
      "0              Access to Services                  2.023893   \n",
      "1  Board Structure & Independence                  2.094227   \n",
      "2      Communication & Engagement                  4.636594   \n",
      "3           Customer Satisfaction                  1.148664   \n",
      "4               Energy Management                  8.214755   \n",
      "\n",
      "   business_impact_score  \n",
      "0                    1.5  \n",
      "1                    1.0  \n",
      "2                    2.5  \n",
      "3                    4.5  \n",
      "4                    3.0  \n"
     ]
    }
   ],
   "source": [
    "# Merge the aggregated data on 'category'\n",
    "merged_agg = pd.merge(stakeholder_agg, business_agg, on='category')\n",
    "\n",
    "# Display the merged aggregated data\n",
    "print(merged_agg.head())\n"
   ]
  },
  {
   "cell_type": "code",
   "execution_count": null,
   "metadata": {},
   "outputs": [],
   "source": [
    "import pandas as pd\n",
    "\n",
    "# Load datasets\n",
    "stakeholder_data = pd.read_csv(\"Stakeholders Dataset/impact_score_stakeholder.csv\")\n",
    "business_data = pd.read_csv(\"Business Dataset/business_impactscore.csv\")\n",
    "\n",
    "# Display first few rows of each dataset to understand the structure\n",
    "print(\"First few rows of stakeholder data:\")\n",
    "print(stakeholder_data.head())\n",
    "\n",
    "print(\"First few rows of business data:\")\n",
    "print(business_data.head())\n",
    "\n",
    "# Aggregate impact_score by category for stakeholder data\n",
    "stakeholder_agg = stakeholder_data.groupby('category')['scaled_impact'].sum().reset_index()\n",
    "stakeholder_agg.rename(columns={'scaled_impact': 'stakeholder_impact_score'}, inplace=True)\n",
    "\n",
    "# Aggregate impact_score by category for business data\n",
    "business_agg = business_data.groupby('category')['scaled_impact'].sum().reset_index()\n",
    "business_agg.rename(columns={'scaled_impact': 'business_impact_score'}, inplace=True)\n",
    "\n",
    "# Display the aggregated data\n",
    "print(\"Aggregated stakeholder data:\")\n",
    "print(stakeholder_agg.head())\n",
    "\n",
    "print(\"Aggregated business data:\")\n",
    "print(business_agg.head())\n",
    "\n",
    "# Merge the aggregated data on 'category' with an outer join to include all categories\n",
    "merged_agg = pd.merge(stakeholder_agg, business_agg, on='category', how='outer')\n",
    "\n",
    "# Replace any NaN values with 0\n",
    "merged_agg.fillna(0, inplace=True)\n",
    "\n",
    "# Calculate total impact score by summing stakeholder_impact_score and business_impact_score\n",
    "merged_agg['total_impact_score'] = merged_agg['stakeholder_impact_score'] + merged_agg['business_impact_score']\n",
    "\n",
    "# Normalize total_impact_score to a range between 0 and 5\n",
    "min_score = merged_agg['total_impact_score'].min()\n",
    "max_score = merged_agg['total_impact_score'].max()\n",
    "merged_agg['normalized_total_impact_score'] = (merged_agg['total_impact_score'] - min_score) / (max_score - min_score) * 5\n",
    "\n",
    "# Normalize stakeholder_impact_score and business_impact_score to a range between 0 and 5\n",
    "min_stakeholder_score = merged_agg['stakeholder_impact_score'].min()\n",
    "max_stakeholder_score = merged_agg['stakeholder_impact_score'].max()\n",
    "merged_agg['normalized_stakeholder_impact_score'] = (merged_agg['stakeholder_impact_score'] - min_stakeholder_score) / (max_stakeholder_score - min_stakeholder_score) * 5\n",
    "\n",
    "min_business_score = merged_agg['business_impact_score'].min()\n",
    "max_business_score = merged_agg['business_impact_score'].max()\n",
    "merged_agg['normalized_business_impact_score'] = (merged_agg['business_impact_score'] - min_business_score) / (max_business_score - min_business_score) * 5\n",
    "\n",
    "# Display the merged aggregated data with normalized scores\n",
    "print(\"Merged aggregated data with normalized scores:\")\n",
    "print(merged_agg.head())\n",
    "\n",
    "# Save the merged aggregated data to a CSV file\n",
    "merged_agg.to_csv('aggregated_impact_scores_normalized.csv', index=False)\n",
    "\n",
    "print(\"File saved as 'aggregated_impact_scores_normalized.csv'\")\n"
   ]
  },
  {
   "cell_type": "code",
   "execution_count": null,
   "metadata": {},
   "outputs": [],
   "source": [
    "import pandas as pd\n",
    "\n",
    "# Replace with your actual file paths\n",
    "stakeholder_data_path = \"Stakeholders Dataset\\impact_score_stakeholder.csv\" \n",
    "business_data_path = \"Dataset\\impact_score.csv\"\n",
    "\n",
    "# Load the data\n",
    "stakeholder_data = pd.read_csv(stakeholder_data_path)\n",
    "business_data = pd.read_csv(business_data_path)\n",
    "\n",
    "# Calculate average scores per category\n",
    "stakeholder_agg = stakeholder_data.groupby('category')['scaled_impact'].agg(['sum', 'count']).reset_index()\n",
    "stakeholder_agg['avg_stakeholder_impact_score'] = stakeholder_agg['sum'] / stakeholder_agg['count']\n",
    "stakeholder_agg.drop(['sum', 'count'], axis=1, inplace=True)  # Drop unnecessary columns\n",
    "\n",
    "business_agg = business_data.groupby('category')['scaled_impact'].agg(['sum', 'count']).reset_index()\n",
    "business_agg['avg_business_impact_score'] = business_agg['sum'] / business_agg['count']\n",
    "business_agg.drop(['sum', 'count'], axis=1, inplace=True)  # Drop unnecessary columns\n",
    "\n",
    "# Merge and fill missing values\n",
    "merged_agg = pd.merge(stakeholder_agg, business_agg, on='category', how='outer')\n",
    "merged_agg.fillna(0, inplace=True)\n",
    "\n",
    "# Normalize average impact scores (0 to 5)\n",
    "# for col in ['avg_stakeholder_impact_score', 'avg_business_impact_score']:\n",
    "#     min_val = merged_agg[col].min()\n",
    "#     max_val = merged_agg[col].max()\n",
    "#     merged_agg[f'normalized_{col}'] = (merged_agg[col] - min_val) / (max_val - min_val) * 5\n",
    "\n",
    "# Save to CSV\n",
    "merged_agg.to_csv('aggregated_avg_impact_scores_normalized.csv', index=False)\n",
    "\n",
    "# Display Results (optional)\n",
    "print(merged_agg.head().to_markdown(index=False, numalign=\"left\", stralign=\"left\"))\n"
   ]
  },
  {
   "cell_type": "code",
   "execution_count": null,
   "metadata": {},
   "outputs": [],
   "source": [
    "# Import dataset \n",
    "midwest = pd.read_csv(\"https://raw.githubusercontent.com/selva86/datasets/master/midwest_filter.csv\")\n",
    "\n",
    "# Prepare Data \n",
    "# Create as many colors as there are unique midwest['category']\n",
    "categories = np.unique(midwest['category'])\n",
    "colors = [plt.cm.tab10(i/float(len(categories)-1)) for i in range(len(categories))]\n",
    "\n",
    "# Draw Plot for Each Category\n",
    "plt.figure(figsize=(16, 10), dpi= 80, facecolor='w', edgecolor='k')\n",
    "\n",
    "# Decorations\n",
    "plt.gca().set(xlim=(0, 5), ylim=(0, 5),\n",
    "              xlabel='Impact on Stakeholders', ylabel='Impact on Business')\n",
    "\n",
    "plt.xticks(fontsize=12); plt.yticks(fontsize=12)\n",
    "plt.title(\"Sustainablity Matrix\", fontsize=22)\n",
    "plt.legend(fontsize=12)    \n",
    "plt.show()"
   ]
  },
  {
   "cell_type": "markdown",
   "metadata": {},
   "source": [
    "# **Text extraction** (Paragraph format)\n"
   ]
  },
  {
   "cell_type": "code",
   "execution_count": null,
   "metadata": {},
   "outputs": [],
   "source": [
    "import os  \n",
    "import pandas as pd  \n",
    "from azure.ai.formrecognizer import DocumentAnalysisClient  \n",
    "from azure.core.credentials import AzureKeyCredential  \n",
    "from tabulate import tabulate  \n",
    "\n",
    "# Azure credentials setup  \n",
    "fr_endpoint = \"https://smrecog.cognitiveservices.azure.com/\"  \n",
    "fr_key = \"36ecfa2cb82d47a8b5d4c572ca8ef063\"  \n",
    "\n",
    "# Function to check if a point is inside a polygon  \n",
    "def is_point_in_polygon(point, polygon):  \n",
    "    x, y = point  \n",
    "    n = len(polygon)  \n",
    "    inside = False  \n",
    "    p1x, p1y = polygon[0]  \n",
    "    for i in range(n + 1):  \n",
    "        p2x, p2y = polygon[i % n]  \n",
    "        if y > min(p1y, p2y):  \n",
    "            if y <= max(p1y, p2y):  \n",
    "                if x <= max(p1x, p2x):  \n",
    "                    if p1y != p2y:  \n",
    "                        xinters = (y - p1y) * (p2x - p1x) / (p2y - p1y) + p1x  \n",
    "                    if p1x == p2x or x <= xinters:  \n",
    "                        inside = not inside  \n",
    "        p1x, p1y = p2x, p2y  \n",
    "    return inside  \n",
    "\n",
    "# Function to check if a bounding box is inside any table spans  \n",
    "def is_in_table(page_number, bounding_box):  \n",
    "    for table_span in table_spans:  \n",
    "        if table_span[0] == page_number and is_point_in_polygon(bounding_box[0], table_span[1]):  \n",
    "            return True  \n",
    "    return False  \n",
    "\n",
    "# Function to extract table data from Form Recognizer result  \n",
    "def extract_table_data(result):  \n",
    "    tables_data = []  \n",
    "    for table in result.tables:  \n",
    "        table_data = {}  \n",
    "        for cell in table.cells:  \n",
    "            row_index = cell.row_index  \n",
    "            col_index = cell.column_index  \n",
    "            if row_index not in table_data:  \n",
    "                table_data[row_index] = {}  \n",
    "            table_data[row_index][col_index] = cell.content  \n",
    "        tables_data.append(table_data)  \n",
    "    return tables_data  \n",
    "\n",
    "# Function to extract text data from Form Recognizer result  \n",
    "def extract_text_data(result):  \n",
    "    pages_text = {}  \n",
    "    for page in result.pages:  \n",
    "        page_text = \"\"  \n",
    "        for line in page.lines:  \n",
    "            if not is_in_table(page.page_number, line.polygon):  \n",
    "                text = line.content.decode(\"utf-8\") if isinstance(line.content, bytes) else line.content  \n",
    "                page_text += text + \" \"  # Concatenate lines with a space  \n",
    "        pages_text[page.page_number] = page_text.strip()  # Strip trailing space  \n",
    " \n",
    "    # Combine text data with each page in a separate paragraph  \n",
    "    combined_text_data = \"\\n\\n\\n\\n\".join(pages_text.get(page_number, \"\") for page_number in sorted(pages_text))  \n",
    "    return combined_text_data  \n",
    "\n",
    "# Function to process PDF and store extracted data in a single text file  \n",
    "def process_pdf_and_store_data(pdf_path, local_directory):  \n",
    "    try:  \n",
    "        document_analysis_client = DocumentAnalysisClient(endpoint=fr_endpoint, credential=AzureKeyCredential(fr_key))  \n",
    "        print(f\"Processing PDF: {pdf_path}\")  \n",
    "         \n",
    "        with open(pdf_path, \"rb\") as pdf_file:  \n",
    "            poller = document_analysis_client.begin_analyze_document(\"prebuilt-layout\", document=pdf_file)  \n",
    "            result = poller.result()  \n",
    " \n",
    "        # Extract table spans  \n",
    "        global table_spans  \n",
    "        table_spans = []  \n",
    "        for table in result.tables:  \n",
    "            for cell in table.cells:  \n",
    "                if cell.bounding_regions:  \n",
    "                    page_number = cell.bounding_regions[0].page_number  \n",
    "                    bounding_box = cell.bounding_regions[0].polygon  \n",
    "                    table_spans.append((page_number, bounding_box))  \n",
    " \n",
    "        tables_data = extract_table_data(result)  \n",
    "        text_data = extract_text_data(result)  \n",
    " \n",
    "        # Generate filename for the combined text file  \n",
    "        base_filename = os.path.basename(pdf_path).replace('.pdf', '')  \n",
    "        combined_filename = f\"{base_filename}_combined.txt\"  \n",
    "        combined_path = os.path.join(local_directory, combined_filename)  \n",
    " \n",
    "        # Write combined data to file  \n",
    "        with open(combined_path, 'w', encoding='utf-8') as file:  \n",
    "            # Write text data  \n",
    "            file.write(\"Extracted Text:\\n\")  \n",
    "            file.write(text_data)  \n",
    "            file.write(\"\\n\\n\")  \n",
    " \n",
    "            # Write table data  \n",
    "            for idx, table_data in enumerate(tables_data):  \n",
    "                file.write(f\"Table {idx + 1}:\\n\")  \n",
    "                max_row = max(table_data.keys())  \n",
    "                max_col = max(max(row.keys() for row in table_data.values()))  \n",
    " \n",
    "                # Initialize the data array  \n",
    "                data = [[\"\" for _ in range(max_col + 1)] for _ in range(max_row + 1)]  \n",
    " \n",
    "                # Populate the data array with table content  \n",
    "                for row_idx, row_data in table_data.items():  \n",
    "                    for col_idx, cell_content in row_data.items():  \n",
    "                        data[row_idx][col_idx] = cell_content  \n",
    " \n",
    "                # Convert the data array into a pandas DataFrame  \n",
    "                df = pd.DataFrame(data)  \n",
    " \n",
    "                # Convert DataFrame to markdown table format and write to file  \n",
    "                table_markdown = tabulate(df.values, tablefmt=\"pipe\")  \n",
    "                file.write(table_markdown)  \n",
    "                file.write(\"\\n\\n\")  \n",
    " \n",
    "        return combined_filename  \n",
    " \n",
    "    except Exception as e:  \n",
    "        print(f\"Error processing {pdf_path}: {e}\")  \n",
    "        return None  \n",
    "\n",
    "# Define input and output directories  \n",
    "input_directory = r\"C:\\Users\\MahishaMudaliar\\Desktop\\sentiment-analysis\\Tobe Extracted\"  \n",
    "output_directory = r\"C:\\Users\\MahishaMudaliar\\Desktop\\sentiment-analysis\\Extracted text\"  \n",
    "\n",
    "# Ensure the output directory exists  \n",
    "if not os.path.exists(output_directory):  \n",
    "    os.makedirs(output_directory)  \n",
    "\n",
    "# Check if input directory is a file or directory  \n",
    "if os.path.isfile(input_directory):  \n",
    "    # Process a single PDF file  \n",
    "    combined_filename = process_pdf_and_store_data(input_directory, output_directory)  \n",
    "    if combined_filename:  \n",
    "        print(f\"Combined text file '{combined_filename}' generated and stored locally.\")  \n",
    "else:  \n",
    "    # Traverse the input directory and its subdirectories to find all PDF files  \n",
    "    for root, dirs, files in os.walk(input_directory):  \n",
    "        for file in files:  \n",
    "            if file.endswith('.pdf'):  \n",
    "                pdf_path = os.path.join(root, file)  \n",
    "                combined_filename = process_pdf_and_store_data(pdf_path, output_directory)  \n",
    "                if combined_filename:  \n",
    "                    print(f\"Combined text file '{combined_filename}' generated and stored locally.\")  \n"
   ]
  },
  {
   "cell_type": "code",
   "execution_count": null,
   "metadata": {},
   "outputs": [],
   "source": [
    "import pandas as pd\n",
    "\n",
    "# # Attempt to read the CSV file, trying common encodings\n",
    "# try:\n",
    "#     df = pd.read_csv(\"Stakeholders Dataset/StakeholdersDataset.csv\")\n",
    "# except UnicodeDecodeError:\n",
    "#     try:\n",
    "#         df = pd.read_csv(\"Stakeholders Dataset/StakeholdersDataset.csv\", encoding='ISO-8859-1')\n",
    "#     except UnicodeDecodeError:\n",
    "#         df = pd.read_csv(\"Stakeholders Dataset/StakeholdersDataset.csv\", encoding='utf-8')\n",
    "\n",
    "# # Print the column names to verify\n",
    "# print(df.columns)\n",
    "\n",
    "# # Check if the 'category' column exists in the DataFrame\n",
    "# import pandas as pd\n",
    "\n",
    "# # Read the 'category_counts.csv' file\n",
    "try:\n",
    "    category_counts_df = pd.read_csv(\"category_counts.csv\")\n",
    "except FileNotFoundError:\n",
    "    print(\"Error: 'category_counts.csv' not found.\")\n",
    "\n",
    "# Read the original dataset to get 'impact_score'\n",
    "try:\n",
    "    df = pd.read_csv(\"Stakeholders Dataset/impact_score_stakeholder.csv\")\n",
    "except UnicodeDecodeError:\n",
    "    try:\n",
    "        df = pd.read_csv(\"Stakeholders Dataset\\impact_score_stakeholder.csv\", encoding='ISO-8859-1')\n",
    "    except UnicodeDecodeError:\n",
    "        df = pd.read_csv(\"Stakeholders Dataset\\impact_score_stakeholder.csv\", encoding='utf-8')\n",
    "\n",
    "df[['text','category', 'scaled_impact']]        \n",
    "\n",
    "# # Ensure 'category' and 'impact_score' columns exist\n",
    "# if 'category' in df.columns and 'impact_score' in df.columns:\n",
    "#     # Merge the dataframes to get the counts for each category\n",
    "#     merged_df = df.merge(category_counts_df, on='Category', how='inner')\n",
    "\n",
    "#     # Calculate the sum of 'impact_score' for each category\n",
    "#     category_impact_totals = merged_df.groupby('Category')['scaled_impact'].sum()\n",
    "\n",
    "#     # Divide the total impact score by the count for each category\n",
    "#     category_average_impact = category_impact_totals / category_counts_df['Count']\n",
    "\n",
    "#     # Create a new DataFrame from the averages\n",
    "#     result_df = pd.DataFrame({\n",
    "#         'Category': category_average_impact.index, \n",
    "#         'Average Impact Score': category_average_impact.values\n",
    "#     })\n",
    "\n",
    "#     # Save to CSV\n",
    "#     result_df.to_csv('category_average_impact.csv', index=False)\n",
    "#     print(\"Category average impact scores saved to 'category_average_impact.csv'\")\n",
    "\n",
    "# else:\n",
    "#     print(\"Either 'category' or 'impact_score' column does not exist in the dataset.\")\n"
   ]
  },
  {
   "cell_type": "code",
   "execution_count": 274,
   "metadata": {},
   "outputs": [
    {
     "data": {
      "text/html": [
       "\n",
       "<style>\n",
       "  #altair-viz-0a1b5582979e4800908e2f4cb26c0110.vega-embed {\n",
       "    width: 100%;\n",
       "    display: flex;\n",
       "  }\n",
       "\n",
       "  #altair-viz-0a1b5582979e4800908e2f4cb26c0110.vega-embed details,\n",
       "  #altair-viz-0a1b5582979e4800908e2f4cb26c0110.vega-embed details summary {\n",
       "    position: relative;\n",
       "  }\n",
       "</style>\n",
       "<div id=\"altair-viz-0a1b5582979e4800908e2f4cb26c0110\"></div>\n",
       "<script type=\"text/javascript\">\n",
       "  var VEGA_DEBUG = (typeof VEGA_DEBUG == \"undefined\") ? {} : VEGA_DEBUG;\n",
       "  (function(spec, embedOpt){\n",
       "    let outputDiv = document.currentScript.previousElementSibling;\n",
       "    if (outputDiv.id !== \"altair-viz-0a1b5582979e4800908e2f4cb26c0110\") {\n",
       "      outputDiv = document.getElementById(\"altair-viz-0a1b5582979e4800908e2f4cb26c0110\");\n",
       "    }\n",
       "    const paths = {\n",
       "      \"vega\": \"https://cdn.jsdelivr.net/npm/vega@5?noext\",\n",
       "      \"vega-lib\": \"https://cdn.jsdelivr.net/npm/vega-lib?noext\",\n",
       "      \"vega-lite\": \"https://cdn.jsdelivr.net/npm/vega-lite@5.17.0?noext\",\n",
       "      \"vega-embed\": \"https://cdn.jsdelivr.net/npm/vega-embed@6?noext\",\n",
       "    };\n",
       "\n",
       "    function maybeLoadScript(lib, version) {\n",
       "      var key = `${lib.replace(\"-\", \"\")}_version`;\n",
       "      return (VEGA_DEBUG[key] == version) ?\n",
       "        Promise.resolve(paths[lib]) :\n",
       "        new Promise(function(resolve, reject) {\n",
       "          var s = document.createElement('script');\n",
       "          document.getElementsByTagName(\"head\")[0].appendChild(s);\n",
       "          s.async = true;\n",
       "          s.onload = () => {\n",
       "            VEGA_DEBUG[key] = version;\n",
       "            return resolve(paths[lib]);\n",
       "          };\n",
       "          s.onerror = () => reject(`Error loading script: ${paths[lib]}`);\n",
       "          s.src = paths[lib];\n",
       "        });\n",
       "    }\n",
       "\n",
       "    function showError(err) {\n",
       "      outputDiv.innerHTML = `<div class=\"error\" style=\"color:red;\">${err}</div>`;\n",
       "      throw err;\n",
       "    }\n",
       "\n",
       "    function displayChart(vegaEmbed) {\n",
       "      vegaEmbed(outputDiv, spec, embedOpt)\n",
       "        .catch(err => showError(`Javascript Error: ${err.message}<br>This usually means there's a typo in your chart specification. See the javascript console for the full traceback.`));\n",
       "    }\n",
       "\n",
       "    if(typeof define === \"function\" && define.amd) {\n",
       "      requirejs.config({paths});\n",
       "      require([\"vega-embed\"], displayChart, err => showError(`Error loading script: ${err.message}`));\n",
       "    } else {\n",
       "      maybeLoadScript(\"vega\", \"5\")\n",
       "        .then(() => maybeLoadScript(\"vega-lite\", \"5.17.0\"))\n",
       "        .then(() => maybeLoadScript(\"vega-embed\", \"6\"))\n",
       "        .catch(showError)\n",
       "        .then(() => displayChart(vegaEmbed));\n",
       "    }\n",
       "  })({\"config\": {\"view\": {\"continuousWidth\": 300, \"continuousHeight\": 300}}, \"data\": {\"name\": \"data-ddeb3f80498613d161e90fe68d3b74c1\"}, \"mark\": {\"type\": \"circle\", \"size\": 60}, \"encoding\": {\"color\": {\"field\": \"category\", \"legend\": {\"title\": \"Category\"}, \"scale\": {\"scheme\": \"tableau20\"}, \"type\": \"nominal\"}, \"tooltip\": [{\"field\": \"category_label\", \"type\": \"nominal\"}, {\"field\": \"businessimpact\", \"type\": \"quantitative\"}, {\"field\": \"stakeholdersimpact_mean\", \"type\": \"quantitative\"}], \"x\": {\"axis\": {\"title\": \"Impact on Business\", \"titleFontSize\": 12}, \"field\": \"businessimpact\", \"type\": \"quantitative\"}, \"y\": {\"axis\": {\"title\": \"Impact on Stakeholders\", \"titleFontSize\": 12}, \"field\": \"stakeholdersimpact_mean\", \"type\": \"quantitative\"}}, \"params\": [{\"name\": \"param_17\", \"select\": {\"type\": \"interval\", \"encodings\": [\"x\", \"y\"]}, \"bind\": \"scales\"}], \"title\": \"Sustainablity Matrix\", \"$schema\": \"https://vega.github.io/schema/vega-lite/v5.17.0.json\", \"datasets\": {\"data-ddeb3f80498613d161e90fe68d3b74c1\": [{\"category\": \"Board Structure & Independence\", \"businessimpact\": 1.0, \"stakeholdersimpact_mean\": 1.0471137489242612, \"stakeholdersimpact_std\": 0.013868683229298226, \"category_label\": \"Board Structure & Independence (Business: 1.00, Stakeholder: 1.05)\"}, {\"category\": \"Customer Health & Safety\", \"businessimpact\": 3.0, \"stakeholdersimpact_mean\": 0.0, \"stakeholdersimpact_std\": 0.0, \"category_label\": \"Customer Health & Safety (Business: 3.00, Stakeholder: 0.00)\"}, {\"category\": \"Disclosure & Labeling\", \"businessimpact\": 2.5, \"stakeholdersimpact_mean\": 0.0, \"stakeholdersimpact_std\": 0.0, \"category_label\": \"Disclosure & Labeling (Business: 2.50, Stakeholder: 0.00)\"}, {\"category\": \"Training & Development\", \"businessimpact\": 2.0, \"stakeholdersimpact_mean\": 1.0628743156137945, \"stakeholdersimpact_std\": 0.11172406211863474, \"category_label\": \"Training & Development (Business: 2.00, Stakeholder: 1.06)\"}, {\"category\": \"Impact from Facilities\", \"businessimpact\": 2.5, \"stakeholdersimpact_mean\": 0.0, \"stakeholdersimpact_std\": 0.0, \"category_label\": \"Impact from Facilities (Business: 2.50, Stakeholder: 0.00)\"}, {\"category\": \"Product Societal Value\", \"businessimpact\": 2.5, \"stakeholdersimpact_mean\": 1.6610568261281102, \"stakeholdersimpact_std\": 0.0, \"category_label\": \"Product Societal Value (Business: 2.50, Stakeholder: 1.66)\"}, {\"category\": \"Access to Services\", \"businessimpact\": 1.5, \"stakeholdersimpact_mean\": 1.0119463098095018, \"stakeholdersimpact_std\": 0.01689463335290825, \"category_label\": \"Access to Services (Business: 1.50, Stakeholder: 1.01)\"}, {\"category\": \"Environmental Accidents\\n& Remediation\", \"businessimpact\": 4.5, \"stakeholdersimpact_mean\": 0.0, \"stakeholdersimpact_std\": 0.0, \"category_label\": \"Environmental Accidents\\n& Remediation (Business: 4.50, Stakeholder: 0.00)\"}, {\"category\": \"Diversity & Equal Opportunity\", \"businessimpact\": 2.0, \"stakeholdersimpact_mean\": 0.0, \"stakeholdersimpact_std\": 0.0, \"category_label\": \"Diversity & Equal Opportunity (Business: 2.00, Stakeholder: 0.00)\"}, {\"category\": \"Packaging\", \"businessimpact\": 1.5, \"stakeholdersimpact_mean\": 0.0, \"stakeholdersimpact_std\": 0.0, \"category_label\": \"Packaging (Business: 1.50, Stakeholder: 0.00)\"}, {\"category\": \"Biodiversity\\nImpacts\", \"businessimpact\": 2.5, \"stakeholdersimpact_mean\": 0.0, \"stakeholdersimpact_std\": 0.0, \"category_label\": \"Biodiversity\\nImpacts (Business: 2.50, Stakeholder: 0.00)\"}, {\"category\": \"Customer Privacy\", \"businessimpact\": 2.5, \"stakeholdersimpact_mean\": 0.0, \"stakeholdersimpact_std\": 0.0, \"category_label\": \"Customer Privacy (Business: 2.50, Stakeholder: 0.00)\"}, {\"category\": \"Climate Change Risks\", \"businessimpact\": 3.5, \"stakeholdersimpact_mean\": 0.0, \"stakeholdersimpact_std\": 0.0, \"category_label\": \"Climate Change Risks (Business: 3.50, Stakeholder: 0.00)\"}, {\"category\": \"Business Ethics &\\nCompetitive Behaviour\", \"businessimpact\": 2.5, \"stakeholdersimpact_mean\": 0.0, \"stakeholdersimpact_std\": 0.0, \"category_label\": \"Business Ethics &\\nCompetitive Behaviour (Business: 2.50, Stakeholder: 0.00)\"}, {\"category\": \"Community Development\\nChild & Forced Labour\", \"businessimpact\": 2.0, \"stakeholdersimpact_mean\": 0.0, \"stakeholdersimpact_std\": 0.0, \"category_label\": \"Community Development\\nChild & Forced Labour (Business: 2.00, Stakeholder: 0.00)\"}, {\"category\": \"Product Lifecycle Use Impact\", \"businessimpact\": 3.5, \"stakeholdersimpact_mean\": 0.0, \"stakeholdersimpact_std\": 0.0, \"category_label\": \"Product Lifecycle Use Impact (Business: 3.50, Stakeholder: 0.00)\"}, {\"category\": \"Employee Health, Safety & wellness\", \"businessimpact\": 3.0, \"stakeholdersimpact_mean\": 0.0, \"stakeholdersimpact_std\": 0.0, \"category_label\": \"Employee Health, Safety & wellness (Business: 3.00, Stakeholder: 0.00)\"}, {\"category\": \"Fuel Management  & Transportation\", \"businessimpact\": 2.5, \"stakeholdersimpact_mean\": 0.0, \"stakeholdersimpact_std\": 0.0, \"category_label\": \"Fuel Management  & Transportation (Business: 2.50, Stakeholder: 0.00)\"}, {\"category\": \"Waste Management & Effluents\", \"businessimpact\": 3.5, \"stakeholdersimpact_mean\": 1.0248742924118102, \"stakeholdersimpact_std\": 0.006469282598723359, \"category_label\": \"Waste Management & Effluents (Business: 3.50, Stakeholder: 1.02)\"}, {\"category\": \"Compensation & Benefits\", \"businessimpact\": 2.0, \"stakeholdersimpact_mean\": 0.0, \"stakeholdersimpact_std\": 0.0, \"category_label\": \"Compensation & Benefits (Business: 2.00, Stakeholder: 0.00)\"}, {\"category\": \"Shareholder Engagement\", \"businessimpact\": 2.0, \"stakeholdersimpact_mean\": 0.0, \"stakeholdersimpact_std\": 0.0, \"category_label\": \"Shareholder Engagement (Business: 2.00, Stakeholder: 0.00)\"}, {\"category\": \"Micro-fibres\", \"businessimpact\": 1.0, \"stakeholdersimpact_mean\": 0.0, \"stakeholdersimpact_std\": 0.0, \"category_label\": \"Micro-fibres (Business: 1.00, Stakeholder: 0.00)\"}, {\"category\": \"Executive Compensation\", \"businessimpact\": 2.0, \"stakeholdersimpact_mean\": 0.0, \"stakeholdersimpact_std\": 0.0, \"category_label\": \"Executive Compensation (Business: 2.00, Stakeholder: 0.00)\"}, {\"category\": \"Social Compliance\", \"businessimpact\": 2.5, \"stakeholdersimpact_mean\": 0.0, \"stakeholdersimpact_std\": 0.0, \"category_label\": \"Social Compliance (Business: 2.50, Stakeholder: 0.00)\"}, {\"category\": \"Marketing & Ethical Advertising\", \"businessimpact\": 2.0, \"stakeholdersimpact_mean\": 0.0, \"stakeholdersimpact_std\": 0.0, \"category_label\": \"Marketing & Ethical Advertising (Business: 2.00, Stakeholder: 0.00)\"}, {\"category\": \"Lobbying & Political\\nContributions\", \"businessimpact\": 1.5, \"stakeholdersimpact_mean\": 0.0, \"stakeholdersimpact_std\": 0.0, \"category_label\": \"Lobbying & Political\\nContributions (Business: 1.50, Stakeholder: 0.00)\"}, {\"category\": \"Energy Management\", \"businessimpact\": 3.0, \"stakeholdersimpact_mean\": 1.0268443476255653, \"stakeholdersimpact_std\": 0.011343812590784087, \"category_label\": \"Energy Management (Business: 3.00, Stakeholder: 1.03)\"}, {\"category\": \"GHG Emissions & Air Pollution\", \"businessimpact\": 4.0, \"stakeholdersimpact_mean\": 1.044497248102821, \"stakeholdersimpact_std\": 0.0, \"category_label\": \"GHG Emissions & Air Pollution (Business: 4.00, Stakeholder: 1.04)\"}, {\"category\": \"Renewable  Energy\", \"businessimpact\": 3.0, \"stakeholdersimpact_mean\": 0.0, \"stakeholdersimpact_std\": 0.0, \"category_label\": \"Renewable  Energy (Business: 3.00, Stakeholder: 0.00)\"}, {\"category\": \"Labour Relations & Union Practices\", \"businessimpact\": 2.5, \"stakeholdersimpact_mean\": 1.0681421449108834, \"stakeholdersimpact_std\": 0.06993223182343362, \"category_label\": \"Labour Relations & Union Practices (Business: 2.50, Stakeholder: 1.07)\"}, {\"category\": \"Product Quality & Safety \", \"businessimpact\": 4.0, \"stakeholdersimpact_mean\": 0.0, \"stakeholdersimpact_std\": 0.0, \"category_label\": \"Product Quality & Safety  (Business: 4.00, Stakeholder: 0.00)\"}, {\"category\": \"Recruitment & Retention\", \"businessimpact\": 2.5, \"stakeholdersimpact_mean\": 0.0, \"stakeholdersimpact_std\": 0.0, \"category_label\": \"Recruitment & Retention (Business: 2.50, Stakeholder: 0.00)\"}, {\"category\": \"Product Environmental  Footprint\", \"businessimpact\": 4.0, \"stakeholdersimpact_mean\": 0.0, \"stakeholdersimpact_std\": 0.0, \"category_label\": \"Product Environmental  Footprint (Business: 4.00, Stakeholder: 0.00)\"}, {\"category\": \"Supply Chain Standards & Selection\", \"businessimpact\": 4.0, \"stakeholdersimpact_mean\": 1.0662465340379468, \"stakeholdersimpact_std\": 0.0, \"category_label\": \"Supply Chain Standards & Selection (Business: 4.00, Stakeholder: 1.07)\"}, {\"category\": \"Environmental Impact of Cotton and Other Fibres\", \"businessimpact\": 3.5, \"stakeholdersimpact_mean\": 1.2165475857721508, \"stakeholdersimpact_std\": 0.08653132241762046, \"category_label\": \"Environmental Impact of Cotton and Other Fibres (Business: 3.50, Stakeholder: 1.22)\"}, {\"category\": \"Product Traceability\", \"businessimpact\": 3.0, \"stakeholdersimpact_mean\": 0.0, \"stakeholdersimpact_std\": 0.0, \"category_label\": \"Product Traceability (Business: 3.00, Stakeholder: 0.00)\"}, {\"category\": \"Regulatory & Legal Challenges\", \"businessimpact\": 5.0, \"stakeholdersimpact_mean\": 1.2693975635781016, \"stakeholdersimpact_std\": 0.0, \"category_label\": \"Regulatory & Legal Challenges (Business: 5.00, Stakeholder: 1.27)\"}, {\"category\": \"Water Use & Management\", \"businessimpact\": 3.5, \"stakeholdersimpact_mean\": 1.017830357917596, \"stakeholdersimpact_std\": 0.007407175363791146, \"category_label\": \"Water Use & Management (Business: 3.50, Stakeholder: 1.02)\"}, {\"category\": \"Communication & Engagement\", \"businessimpact\": 2.5, \"stakeholdersimpact_mean\": 1.1591484870118813, \"stakeholdersimpact_std\": 0.09075406640627195, \"category_label\": \"Communication & Engagement (Business: 2.50, Stakeholder: 1.16)\"}, {\"category\": \"Policies, Standards, Code of Conduct\", \"businessimpact\": 3.0, \"stakeholdersimpact_mean\": 2.1354600338609364, \"stakeholdersimpact_std\": 1.612747310326872, \"category_label\": \"Policies, Standards, Code of Conduct (Business: 3.00, Stakeholder: 2.14)\"}, {\"category\": \"Long term Viability of Core Business\", \"businessimpact\": 4.0, \"stakeholdersimpact_mean\": 1.3342324269243788, \"stakeholdersimpact_std\": 0.5937482868568285, \"category_label\": \"Long term Viability of Core Business (Business: 4.00, Stakeholder: 1.33)\"}, {\"category\": \"Supply Chain Engagement and Transparency \", \"businessimpact\": 3.5, \"stakeholdersimpact_mean\": 0.0, \"stakeholdersimpact_std\": 0.0, \"category_label\": \"Supply Chain Engagement and Transparency  (Business: 3.50, Stakeholder: 0.00)\"}, {\"category\": \"Product Pricing\", \"businessimpact\": 3.0, \"stakeholdersimpact_mean\": 0.0, \"stakeholdersimpact_std\": 0.0, \"category_label\": \"Product Pricing (Business: 3.00, Stakeholder: 0.00)\"}, {\"category\": \"Chemical Risks and Managemen\", \"businessimpact\": 3.5, \"stakeholdersimpact_mean\": 0.0, \"stakeholdersimpact_std\": 0.0, \"category_label\": \"Chemical Risks and Managemen (Business: 3.50, Stakeholder: 0.00)\"}, {\"category\": \"Raw Material Demand\", \"businessimpact\": 3.5, \"stakeholdersimpact_mean\": 0.0, \"stakeholdersimpact_std\": 0.0, \"category_label\": \"Raw Material Demand (Business: 3.50, Stakeholder: 0.00)\"}, {\"category\": \"Customer Satisfaction\", \"businessimpact\": 4.5, \"stakeholdersimpact_mean\": 1.1486643757387247, \"stakeholdersimpact_std\": 0.0, \"category_label\": \"Customer Satisfaction (Business: 4.50, Stakeholder: 1.15)\"}, {\"category\": \"Research, Development & Innovation\", \"businessimpact\": 4.0, \"stakeholdersimpact_mean\": 1.032198764954917, \"stakeholdersimpact_std\": 0.01496887335006083, \"category_label\": \"Research, Development & Innovation (Business: 4.00, Stakeholder: 1.03)\"}, {\"category\": \"New Markets\", \"businessimpact\": 3.0, \"stakeholdersimpact_mean\": 0.0, \"stakeholdersimpact_std\": 0.0, \"category_label\": \"New Markets (Business: 3.00, Stakeholder: 0.00)\"}, {\"category\": \"Accounting for Externalities\", \"businessimpact\": 2.0, \"stakeholdersimpact_mean\": 0.0, \"stakeholdersimpact_std\": 0.0, \"category_label\": \"Accounting for Externalities (Business: 2.00, Stakeholder: 0.00)\"}]}}, {\"mode\": \"vega-lite\"});\n",
       "</script>"
      ],
      "text/plain": [
       "alt.Chart(...)"
      ]
     },
     "metadata": {},
     "output_type": "display_data"
    }
   ],
   "source": [
    "import pandas as pd\n",
    "import altair as alt\n",
    "\n",
    "# 1. Read the CSV files into Pandas Dataframes\n",
    "df_business = pd.read_csv('Business Dataset\\\\business_impactscore.csv')\n",
    "df_stakeholder = pd.read_csv('Stakeholders Dataset\\stakeholdersdataset_impactscore.csv')\n",
    "\n",
    "# 2. Rename the impact score columns\n",
    "df_business = df_business.rename(columns={'scaled_impact': 'businessimpact'})\n",
    "df_stakeholder = df_stakeholder.rename(columns={'scaled_impact': 'scaled_impact'})\n",
    "\n",
    "# 3. Merge the DataFrames on the 'label' column (left join)\n",
    "merged_df = df_business.merge(df_stakeholder, on='category', how='left')\n",
    "\n",
    "# 2. Aggregate stakeholder data\n",
    "stakeholder_agg = merged_df.groupby('category')['scaled_impact'].agg(['mean', 'std']).reset_index()\n",
    "\n",
    "# 3. Rename columns\n",
    "stakeholder_agg.columns = ['category', 'stakeholdersimpact_mean', 'stakeholdersimpact_std']\n",
    "\n",
    "# 4. Merge with business data and fill missing values\n",
    "merged_df = df_business.merge(stakeholder_agg, on='category', how='left').fillna(0)\n",
    "\n",
    "# 5. Create category_label column\n",
    "merged_df['category_label'] = merged_df.apply(lambda row: f\"{row['category']} (Business: {row['businessimpact']:.2f}, Stakeholder: {row['stakeholdersimpact_mean']:.2f})\", axis=1)\n",
    "\n",
    "# Create Scatter Plot\n",
    "chart = alt.Chart(merged_df).mark_circle(size=60).encode(\n",
    "    x=alt.X('businessimpact:Q', axis=alt.Axis(title='Impact on Business', titleFontSize=12)),\n",
    "    y=alt.Y('stakeholdersimpact_mean:Q', axis=alt.Axis(title='Impact on Stakeholders', titleFontSize=12)),\n",
    "    color=alt.Color('category:N', scale=alt.Scale(scheme='tableau20'), legend=alt.Legend(title=\"Category\")),\n",
    "    tooltip=['category_label', 'businessimpact', 'stakeholdersimpact_mean']\n",
    ").properties(\n",
    "    title='Sustainablity Matrix'\n",
    ").interactive()\n",
    "\n",
    "# Save the chart\n",
    "# chart.save('impact_scatter_plot_business_vs_stakeholder_impact.json')\n",
    "# 3. Display and Save the Chart\n",
    "chart.show()\n",
    "# Show the chart\n",
    "# final_chart.show()\n"
   ]
  },
  {
   "cell_type": "code",
   "execution_count": 277,
   "metadata": {},
   "outputs": [
    {
     "name": "stdout",
     "output_type": "stream",
     "text": [
      "                                           category  stakeholdersimpact_mean  \\\n",
      "0                                Access to Services                 1.011946   \n",
      "1                      Accounting for Externalities                      NaN   \n",
      "2                             Biodiversity\\nImpacts                      NaN   \n",
      "3                    Board Structure & Independence                 1.047114   \n",
      "4          Business Ethics &\\nCompetitive Behaviour                      NaN   \n",
      "5                      Chemical Risks and Managemen                      NaN   \n",
      "6                              Climate Change Risks                      NaN   \n",
      "7                        Communication & Engagement                 1.159148   \n",
      "8      Community Development\\nChild & Forced Labour                      NaN   \n",
      "9                           Compensation & Benefits                      NaN   \n",
      "10                         Customer Health & Safety                      NaN   \n",
      "11                                 Customer Privacy                      NaN   \n",
      "12                            Customer Satisfaction                 1.148664   \n",
      "13                            Disclosure & Labeling                      NaN   \n",
      "14                    Diversity & Equal Opportunity                      NaN   \n",
      "15               Employee Health, Safety & wellness                      NaN   \n",
      "16                                Energy Management                 1.026844   \n",
      "17           Environmental Accidents\\n& Remediation                      NaN   \n",
      "18  Environmental Impact of Cotton and Other Fibres                 1.216548   \n",
      "19                           Executive Compensation                      NaN   \n",
      "20                Fuel Management  & Transportation                      NaN   \n",
      "21                    GHG Emissions & Air Pollution                 1.044497   \n",
      "22                           Impact from Facilities                      NaN   \n",
      "23               Labour Relations & Union Practices                 1.068142   \n",
      "24              Lobbying & Political\\nContributions                      NaN   \n",
      "25             Long term Viability of Core Business                 1.334232   \n",
      "26                  Marketing & Ethical Advertising                      NaN   \n",
      "27                                     Micro-fibres                      NaN   \n",
      "28                                      New Markets                      NaN   \n",
      "29                                        Packaging                      NaN   \n",
      "30             Policies, Standards, Code of Conduct                 2.135460   \n",
      "31                 Product Environmental  Footprint                      NaN   \n",
      "32                     Product Lifecycle Use Impact                      NaN   \n",
      "33                                  Product Pricing                      NaN   \n",
      "34                        Product Quality & Safety                       NaN   \n",
      "35                           Product Societal Value                 1.661057   \n",
      "36                             Product Traceability                      NaN   \n",
      "37                              Raw Material Demand                      NaN   \n",
      "38                          Recruitment & Retention                      NaN   \n",
      "39                    Regulatory & Legal Challenges                 1.269398   \n",
      "40                                Renewable  Energy                      NaN   \n",
      "41               Research, Development & Innovation                 1.032199   \n",
      "42                           Shareholder Engagement                      NaN   \n",
      "43                                Social Compliance                      NaN   \n",
      "44        Supply Chain Engagement and Transparency                       NaN   \n",
      "45               Supply Chain Standards & Selection                 1.066247   \n",
      "46                           Training & Development                 1.062874   \n",
      "47                     Waste Management & Effluents                 1.024874   \n",
      "48                           Water Use & Management                 1.017830   \n",
      "\n",
      "    stakeholdersimpact_std  \n",
      "0                 0.016895  \n",
      "1                      NaN  \n",
      "2                      NaN  \n",
      "3                 0.013869  \n",
      "4                      NaN  \n",
      "5                      NaN  \n",
      "6                      NaN  \n",
      "7                 0.090754  \n",
      "8                      NaN  \n",
      "9                      NaN  \n",
      "10                     NaN  \n",
      "11                     NaN  \n",
      "12                     NaN  \n",
      "13                     NaN  \n",
      "14                     NaN  \n",
      "15                     NaN  \n",
      "16                0.011344  \n",
      "17                     NaN  \n",
      "18                0.086531  \n",
      "19                     NaN  \n",
      "20                     NaN  \n",
      "21                     NaN  \n",
      "22                     NaN  \n",
      "23                0.069932  \n",
      "24                     NaN  \n",
      "25                0.593748  \n",
      "26                     NaN  \n",
      "27                     NaN  \n",
      "28                     NaN  \n",
      "29                     NaN  \n",
      "30                1.612747  \n",
      "31                     NaN  \n",
      "32                     NaN  \n",
      "33                     NaN  \n",
      "34                     NaN  \n",
      "35                     NaN  \n",
      "36                     NaN  \n",
      "37                     NaN  \n",
      "38                     NaN  \n",
      "39                     NaN  \n",
      "40                     NaN  \n",
      "41                0.014969  \n",
      "42                     NaN  \n",
      "43                     NaN  \n",
      "44                     NaN  \n",
      "45                     NaN  \n",
      "46                0.111724  \n",
      "47                0.006469  \n",
      "48                0.007407  \n"
     ]
    },
    {
     "name": "stderr",
     "output_type": "stream",
     "text": [
      "C:\\Users\\MahishaMudaliar\\AppData\\Local\\Temp\\ipykernel_12912\\1083324614.py:35: MatplotlibDeprecationWarning:\n",
      "\n",
      "The get_cmap function was deprecated in Matplotlib 3.7 and will be removed in 3.11. Use ``matplotlib.colormaps[name]`` or ``matplotlib.colormaps.get_cmap()`` or ``pyplot.get_cmap()`` instead.\n",
      "\n"
     ]
    },
    {
     "data": {
      "image/png": "[encoded data removed]",
      "text/plain": [
       "<Figure size 1600x800 with 1 Axes>"
      ]
     },
     "metadata": {},
     "output_type": "display_data"
    }
   ],
   "source": [
    "import matplotlib.pyplot as plt\n",
    "import pandas as pd\n",
    "import numpy as np\n",
    "\n",
    "# 1. Read the CSV files into Pandas Dataframes\n",
    "df_business = pd.read_csv('Business Dataset\\\\business_impactscore.csv')\n",
    "df_stakeholder = pd.read_csv('Stakeholders Dataset\\stakeholdersdataset_impactscore.csv')\n",
    "\n",
    "# 2. Rename the impact score columns\n",
    "df_business = df_business.rename(columns={'scaled_impact': 'businessimpact'})\n",
    "df_stakeholder = df_stakeholder.rename(columns={'scaled_impact': 'stakeholdersimpact'})\n",
    "\n",
    "# 3. Merge the DataFrames on the 'category' column (left join)\n",
    "merged_df = df_business.merge(df_stakeholder, on='category', how='left')\n",
    "\n",
    "# 4. Aggregate stakeholder data\n",
    "stakeholder_agg = merged_df.groupby('category')['stakeholdersimpact'].agg(['mean', 'std']).reset_index()\n",
    "\n",
    "# 5. Rename columns\n",
    "stakeholder_agg.columns = ['category', 'stakeholdersimpact_mean', 'stakeholdersimpact_std']\n",
    "\n",
    "print(stakeholder_agg)\n",
    "# 6. Merge with business data and fill missing values\n",
    "merged_df = df_business.merge(stakeholder_agg, on='category', how='left').fillna(0)\n",
    "\n",
    "# 7. Create category_label column\n",
    "merged_df['category_label'] = merged_df.apply(lambda row: f\"{row['category']} (Business: {row['businessimpact']:.2f}, Stakeholder: {row['stakeholdersimpact_mean']:.2f})\", axis=1)\n",
    "\n",
    "# 8. Normalize the scores for plotting purposes (0-5 range)\n",
    "merged_df['normalized_business_impact_score'] = merged_df['businessimpact']\n",
    "merged_df['normalized_stakeholder_impact_score'] = merged_df['stakeholdersimpact_mean']\n",
    "\n",
    "# 9. Create the scatter plot\n",
    "plt.figure(figsize=(20, 10), dpi=80, facecolor='w', edgecolor='k')\n",
    "cmap = plt.cm.get_cmap('tab20', len(merged_df))\n",
    "\n",
    "# Scatter Plot\n",
    "colors = []\n",
    "for i, row in merged_df.iterrows():\n",
    "    color = cmap(i)\n",
    "    colors.append(color)\n",
    "    plt.scatter(row['normalized_business_impact_score'],\n",
    "                row['normalized_stakeholder_impact_score'],\n",
    "                s=200,  \n",
    "                c=[color], \n",
    "                alpha=0.6,  \n",
    "                marker='o') \n",
    "\n",
    "# Legend\n",
    "labels = merged_df['category'].tolist()\n",
    "handles = [plt.Line2D([0], [0], marker='o', color='w', label=label, markersize=10, markerfacecolor=color) for label, color in zip(labels, colors)]\n",
    "plt.legend(handles=handles, loc='center left', bbox_to_anchor=(1, 0.5), title=\"Category\")\n",
    "\n",
    "# Additional plot settings (axes, gridlines, etc.)\n",
    "plt.xlabel('Impact on Business')\n",
    "plt.ylabel('Impact on Stakeholders')\n",
    "plt.title('Sustainability Matrix')\n",
    "plt.grid(True)\n",
    "plt.xlim(0, 5)\n"
   ]
  },
  {
   "cell_type": "code",
   "execution_count": null,
   "metadata": {},
   "outputs": [],
   "source": []
  },
  {
   "cell_type": "code",
   "execution_count": null,
   "metadata": {},
   "outputs": [],
   "source": [
    "plt.ylim(0, 5)\n",
    "\n",
    "plt.show()\n"
   ]
  },
  {
   "cell_type": "code",
   "execution_count": null,
   "metadata": {},
   "outputs": [],
   "source": []
  }
 ],
 "metadata": {
  "kernelspec": {
   "display_name": "Python 3",
   "language": "python",
   "name": "python3"
  },
  "language_info": {
   "codemirror_mode": {
    "name": "ipython",
    "version": 3
   },
   "file_extension": ".py",
   "mimetype": "text/x-python",
   "name": "python",
   "nbconvert_exporter": "python",
   "pygments_lexer": "ipython3",
   "version": "3.11.9"
  }
 },
 "nbformat": 4,
 "nbformat_minor": 2
}
